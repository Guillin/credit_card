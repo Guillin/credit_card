{
 "cells": [
  {
   "cell_type": "code",
   "execution_count": 118,
   "metadata": {
    "_uuid": "39eb918049391b864c6d5f9dfd3ce5807584cfe9"
   },
   "outputs": [],
   "source": [
    "import pandas as pd \n",
    "import numpy as np\n",
    "import matplotlib\n",
    "import matplotlib.pyplot as plt\n",
    "import seaborn as sns\n",
    "%matplotlib inline \n",
    "from sklearn import metrics\n",
    "from sklearn import preprocessing\n",
    "\n",
    "import gc\n",
    "from datetime import datetime \n",
    "from sklearn.model_selection import train_test_split\n",
    "from sklearn.model_selection import KFold\n",
    "from sklearn.metrics import roc_auc_score\n",
    "from sklearn.ensemble import RandomForestClassifier\n",
    "from sklearn.linear_model import LogisticRegression\n",
    "from catboost import CatBoostClassifier\n",
    "import lightgbm as lgb\n",
    "import xgboost as xgb\n",
    "import joblib\n",
    "pd.set_option('display.max_columns', 100)"
   ]
  },
  {
   "cell_type": "code",
   "execution_count": 52,
   "metadata": {},
   "outputs": [],
   "source": [
    "def plot_lift(y_real, y_proba, ax = None, color = 'b', title = 'Lift Curve'):\n",
    "    # Prepare the data\n",
    "    aux_df = pd.DataFrame()\n",
    "    aux_df['y_real'] = y_real\n",
    "    aux_df['y_proba'] = y_proba\n",
    "    # Sort by predicted probability\n",
    "    aux_df = aux_df.sort_values('y_proba', ascending = False)\n",
    "    # Find the total positive ratio of the whole dataset\n",
    "    total_positive_ratio = sum(aux_df['y_real'] == 1) / aux_df.shape[0]\n",
    "    # For each line of data, get the ratio of positives of the given subset and calculate the lift\n",
    "    lift_values = []\n",
    "    for i in aux_df.index:\n",
    "        threshold = aux_df.loc[i]['y_proba']\n",
    "        subset = aux_df[aux_df['y_proba'] >= threshold]\n",
    "        subset_positive_ratio = sum(subset['y_real'] == 1) / subset.shape[0]\n",
    "        lift = subset_positive_ratio / total_positive_ratio\n",
    "        lift_values.append(lift)\n",
    "    # Plot the lift curve\n",
    "    if ax == None:\n",
    "        ax = plt.axes()\n",
    "    ax.set_xlabel('Proportion of sample')\n",
    "    ax.set_ylabel('Lift')\n",
    "    ax.set_title(title)\n",
    "    sns.lineplot(x = [x/len(lift_values) for x in range(len(lift_values))], y = lift_values, ax = ax, color = color)\n",
    "    ax.axhline(1, color = 'gray', linestyle = 'dashed', linewidth = 3)"
   ]
  },
  {
   "cell_type": "code",
   "execution_count": 117,
   "metadata": {},
   "outputs": [],
   "source": [
    "def winsorizer(data, attrs, params=None):\n",
    "    \"\"\"Replace outliers with top and bottom value\n",
    "\n",
    "    Args:\n",
    "        data (Pandas dataframe): imput dataset\n",
    "        attrs (list): what variables want to trim their outlier's values\n",
    "        params (None, optional):  Defaults to None.\n",
    "\n",
    "    Returns:\n",
    "        Pandas dataframe: Return dataset with attrs without outliers \n",
    "    \"\"\"\n",
    "    for x in attrs:\n",
    "        q75,q25 = np.percentile(data.loc[:,x],[75,25])\n",
    "        intr_qr = q75-q25\n",
    "    \n",
    "        max = q75+(1.5*intr_qr)\n",
    "        min = q25-(1.5*intr_qr)\n",
    "    \n",
    "        data.loc[data[x] < min,x] = min\n",
    "        data.loc[data[x] > max,x] = max\n",
    "    \n",
    "    return data"
   ]
  },
  {
   "cell_type": "markdown",
   "metadata": {
    "_uuid": "751722a3aa9850285494af48cea32543d0ba5e06"
   },
   "source": [
    "## Set parameters\n",
    "\n",
    "Here we set few parameters for the analysis and models."
   ]
  },
  {
   "cell_type": "code",
   "execution_count": 89,
   "metadata": {
    "_uuid": "5df85f736efd89e53e2d14ee6a8401a73a18ef6c"
   },
   "outputs": [],
   "source": [
    "RFC_METRIC = 'gini'  #metric \n",
    "NUM_ESTIMATORS = 100 #number of estimators \n",
    "NO_JOBS = 4 #number of parallel jobs used \n",
    "\n",
    "#VALIDATION\n",
    "VALID_SIZE = 0.20 # simple validation using train_test_split\n",
    "\n",
    "#CROSS-VALIDATION\n",
    "NUMBER_KFOLDS = 5 #number of KFolds for cross-validation\n",
    "\n",
    "RANDOM_STATE = 2018\n",
    "\n",
    "MAX_ROUNDS = 1000 #lgb iterations\n",
    "EARLY_STOP = 50 #lgb early stop \n",
    "OPT_ROUNDS = 1000  #To be adjusted based on best validation rounds\n",
    "VERBOSE_EVAL = 50 #Print out metric result\n",
    "LABEL = \"target\"\n",
    "\n",
    "import os\n",
    "\n",
    "PATH=\"data/credit_card_clients.csv\"\n"
   ]
  },
  {
   "cell_type": "code",
   "execution_count": 15,
   "metadata": {},
   "outputs": [],
   "source": [
    "metrics_score = {\n",
    "\"roc_auc\": metrics.roc_auc_score,\n",
    "\"accuracy\": metrics.accuracy_score\n",
    "}\n",
    "\n",
    "\n",
    "models = dict()"
   ]
  },
  {
   "cell_type": "code",
   "execution_count": 74,
   "metadata": {},
   "outputs": [],
   "source": [
    "def train_cv(model, df, metric, predictors=None):\n",
    "   \n",
    "\n",
    "    folds =-1\n",
    "    models = []\n",
    "\n",
    "    if 'kfold' in df.columns:\n",
    "        folds = df.kfold.max()\n",
    "\n",
    "    if folds != -1:\n",
    "\n",
    "        cv_val_result = []\n",
    "        for fold in range(folds + 1):\n",
    "            # training data is where kfold is not equal to provided fold \n",
    "            # also, note that we reset the index\n",
    "            df_train = df[df.kfold != fold].reset_index(drop=True)\n",
    "\n",
    "            # validation data is where kfold is equal to provided fold\n",
    "            df_valid = df[df.kfold == fold].reset_index(drop=True) # drop the label and kfold column from dataframe and convert it to\n",
    "            \n",
    "            # Because train and validation data does not have the same number of columns, we will align them.\n",
    "            df_train, df_valid = df_train.align(df_valid, join='outer', axis=1, fill_value=0)\n",
    "\n",
    "            # a numpy array by using .values.\n",
    "            # target is label column in the dataframe\n",
    "            x_train = df_train.drop([LABEL, 'kfold'], axis=1).values \n",
    "            y_train = df_train[LABEL].values\n",
    "            \n",
    "            # similarly, for validation, we have\n",
    "            x_valid = df_valid.drop([LABEL, 'kfold'], axis=1).values \n",
    "            y_valid = df_valid[LABEL].values\n",
    "            \n",
    "\n",
    "            # fit the model on training data\n",
    "            model.fit(x_train, y_train)\n",
    "\n",
    "            # create predictions for validation samples\n",
    "            preds = model.predict(x_valid)\n",
    "\n",
    "\n",
    "            # calculate & print metric\n",
    "            metricfun = metrics_score[metric]\n",
    "            result = metricfun(y_valid, preds) \n",
    "            print(f\"Fold={fold}, {metric}={result}\")\n",
    "\n",
    "            cv_val_result.append(result)\n",
    "\n",
    "            # calling garbage collector\n",
    "            gc.collect()\n",
    "            \n",
    "\n",
    "            # save the model fold model\n",
    "            models.append(model)\n",
    "            #joblib.dump( model, f\"models/{model}_{fold}.bin\")\n",
    "\n",
    "            \n",
    "        print(f'CV model - {metric} - mean=%.3f - std=(%.3f)' % (np.mean(cv_val_result), np.std(cv_val_result)))\n",
    "\n",
    "        return models\n",
    "    \n"
   ]
  },
  {
   "cell_type": "markdown",
   "metadata": {
    "_uuid": "27818289f04036c3026d48f2eabcf6f38263ea4f"
   },
   "source": [
    "# <a id=\"3\">Read the data</a>"
   ]
  },
  {
   "cell_type": "code",
   "execution_count": 4,
   "metadata": {
    "_uuid": "28a631e66df7507ef44cb67201226dc799f08ad2"
   },
   "outputs": [],
   "source": [
    "data_df = pd.read_csv(PATH)"
   ]
  },
  {
   "cell_type": "code",
   "execution_count": 6,
   "metadata": {},
   "outputs": [
    {
     "data": {
      "text/html": [
       "<div>\n",
       "<style scoped>\n",
       "    .dataframe tbody tr th:only-of-type {\n",
       "        vertical-align: middle;\n",
       "    }\n",
       "\n",
       "    .dataframe tbody tr th {\n",
       "        vertical-align: top;\n",
       "    }\n",
       "\n",
       "    .dataframe thead th {\n",
       "        text-align: right;\n",
       "    }\n",
       "</style>\n",
       "<table border=\"1\" class=\"dataframe\">\n",
       "  <thead>\n",
       "    <tr style=\"text-align: right;\">\n",
       "      <th></th>\n",
       "      <th>id</th>\n",
       "      <th>limit_bal</th>\n",
       "      <th>sex</th>\n",
       "      <th>education</th>\n",
       "      <th>marriage</th>\n",
       "      <th>age</th>\n",
       "      <th>pay_0</th>\n",
       "      <th>pay_2</th>\n",
       "      <th>pay_3</th>\n",
       "      <th>pay_4</th>\n",
       "      <th>pay_5</th>\n",
       "      <th>pay_6</th>\n",
       "      <th>bill_amt1</th>\n",
       "      <th>bill_amt2</th>\n",
       "      <th>bill_amt3</th>\n",
       "      <th>bill_amt4</th>\n",
       "      <th>bill_amt5</th>\n",
       "      <th>bill_amt6</th>\n",
       "      <th>pay_amt1</th>\n",
       "      <th>pay_amt2</th>\n",
       "      <th>pay_amt3</th>\n",
       "      <th>pay_amt4</th>\n",
       "      <th>pay_amt5</th>\n",
       "      <th>pay_amt6</th>\n",
       "      <th>target</th>\n",
       "      <th>kfold</th>\n",
       "    </tr>\n",
       "  </thead>\n",
       "  <tbody>\n",
       "    <tr>\n",
       "      <th>0</th>\n",
       "      <td>27063</td>\n",
       "      <td>290000</td>\n",
       "      <td>1</td>\n",
       "      <td>3</td>\n",
       "      <td>2</td>\n",
       "      <td>41</td>\n",
       "      <td>0</td>\n",
       "      <td>0</td>\n",
       "      <td>0</td>\n",
       "      <td>0</td>\n",
       "      <td>0</td>\n",
       "      <td>0</td>\n",
       "      <td>293281</td>\n",
       "      <td>268030</td>\n",
       "      <td>157691</td>\n",
       "      <td>158720</td>\n",
       "      <td>144085</td>\n",
       "      <td>143663</td>\n",
       "      <td>7948</td>\n",
       "      <td>22429</td>\n",
       "      <td>5530</td>\n",
       "      <td>4442</td>\n",
       "      <td>5887</td>\n",
       "      <td>5890</td>\n",
       "      <td>0</td>\n",
       "      <td>0</td>\n",
       "    </tr>\n",
       "    <tr>\n",
       "      <th>1</th>\n",
       "      <td>6786</td>\n",
       "      <td>80000</td>\n",
       "      <td>2</td>\n",
       "      <td>3</td>\n",
       "      <td>1</td>\n",
       "      <td>42</td>\n",
       "      <td>-2</td>\n",
       "      <td>-2</td>\n",
       "      <td>-2</td>\n",
       "      <td>-2</td>\n",
       "      <td>-2</td>\n",
       "      <td>-2</td>\n",
       "      <td>0</td>\n",
       "      <td>0</td>\n",
       "      <td>0</td>\n",
       "      <td>0</td>\n",
       "      <td>0</td>\n",
       "      <td>0</td>\n",
       "      <td>0</td>\n",
       "      <td>0</td>\n",
       "      <td>0</td>\n",
       "      <td>0</td>\n",
       "      <td>0</td>\n",
       "      <td>0</td>\n",
       "      <td>0</td>\n",
       "      <td>0</td>\n",
       "    </tr>\n",
       "    <tr>\n",
       "      <th>2</th>\n",
       "      <td>12263</td>\n",
       "      <td>50000</td>\n",
       "      <td>2</td>\n",
       "      <td>2</td>\n",
       "      <td>1</td>\n",
       "      <td>25</td>\n",
       "      <td>1</td>\n",
       "      <td>2</td>\n",
       "      <td>0</td>\n",
       "      <td>0</td>\n",
       "      <td>0</td>\n",
       "      <td>0</td>\n",
       "      <td>19454</td>\n",
       "      <td>18856</td>\n",
       "      <td>19590</td>\n",
       "      <td>18861</td>\n",
       "      <td>4581</td>\n",
       "      <td>2158</td>\n",
       "      <td>0</td>\n",
       "      <td>1200</td>\n",
       "      <td>477</td>\n",
       "      <td>121</td>\n",
       "      <td>22</td>\n",
       "      <td>0</td>\n",
       "      <td>0</td>\n",
       "      <td>0</td>\n",
       "    </tr>\n",
       "    <tr>\n",
       "      <th>3</th>\n",
       "      <td>16349</td>\n",
       "      <td>500000</td>\n",
       "      <td>2</td>\n",
       "      <td>1</td>\n",
       "      <td>2</td>\n",
       "      <td>34</td>\n",
       "      <td>-2</td>\n",
       "      <td>-2</td>\n",
       "      <td>-2</td>\n",
       "      <td>-2</td>\n",
       "      <td>-2</td>\n",
       "      <td>-2</td>\n",
       "      <td>11765</td>\n",
       "      <td>6599</td>\n",
       "      <td>11421</td>\n",
       "      <td>-83</td>\n",
       "      <td>49699</td>\n",
       "      <td>3821</td>\n",
       "      <td>6648</td>\n",
       "      <td>11986</td>\n",
       "      <td>0</td>\n",
       "      <td>49947</td>\n",
       "      <td>3840</td>\n",
       "      <td>11939</td>\n",
       "      <td>0</td>\n",
       "      <td>0</td>\n",
       "    </tr>\n",
       "    <tr>\n",
       "      <th>4</th>\n",
       "      <td>1500</td>\n",
       "      <td>20000</td>\n",
       "      <td>1</td>\n",
       "      <td>1</td>\n",
       "      <td>2</td>\n",
       "      <td>27</td>\n",
       "      <td>1</td>\n",
       "      <td>2</td>\n",
       "      <td>-1</td>\n",
       "      <td>-1</td>\n",
       "      <td>0</td>\n",
       "      <td>0</td>\n",
       "      <td>6274</td>\n",
       "      <td>5971</td>\n",
       "      <td>3980</td>\n",
       "      <td>9040</td>\n",
       "      <td>9040</td>\n",
       "      <td>0</td>\n",
       "      <td>0</td>\n",
       "      <td>4000</td>\n",
       "      <td>9040</td>\n",
       "      <td>0</td>\n",
       "      <td>0</td>\n",
       "      <td>17291</td>\n",
       "      <td>0</td>\n",
       "      <td>0</td>\n",
       "    </tr>\n",
       "  </tbody>\n",
       "</table>\n",
       "</div>"
      ],
      "text/plain": [
       "      id  limit_bal  sex  education  marriage  age  pay_0  pay_2  pay_3  \\\n",
       "0  27063     290000    1          3         2   41      0      0      0   \n",
       "1   6786      80000    2          3         1   42     -2     -2     -2   \n",
       "2  12263      50000    2          2         1   25      1      2      0   \n",
       "3  16349     500000    2          1         2   34     -2     -2     -2   \n",
       "4   1500      20000    1          1         2   27      1      2     -1   \n",
       "\n",
       "   pay_4  pay_5  pay_6  bill_amt1  bill_amt2  bill_amt3  bill_amt4  bill_amt5  \\\n",
       "0      0      0      0     293281     268030     157691     158720     144085   \n",
       "1     -2     -2     -2          0          0          0          0          0   \n",
       "2      0      0      0      19454      18856      19590      18861       4581   \n",
       "3     -2     -2     -2      11765       6599      11421        -83      49699   \n",
       "4     -1      0      0       6274       5971       3980       9040       9040   \n",
       "\n",
       "   bill_amt6  pay_amt1  pay_amt2  pay_amt3  pay_amt4  pay_amt5  pay_amt6  \\\n",
       "0     143663      7948     22429      5530      4442      5887      5890   \n",
       "1          0         0         0         0         0         0         0   \n",
       "2       2158         0      1200       477       121        22         0   \n",
       "3       3821      6648     11986         0     49947      3840     11939   \n",
       "4          0         0      4000      9040         0         0     17291   \n",
       "\n",
       "   target  kfold  \n",
       "0       0      0  \n",
       "1       0      0  \n",
       "2       0      0  \n",
       "3       0      0  \n",
       "4       0      0  "
      ]
     },
     "execution_count": 6,
     "metadata": {},
     "output_type": "execute_result"
    }
   ],
   "source": [
    "data_df.head()"
   ]
  },
  {
   "cell_type": "markdown",
   "metadata": {
    "_uuid": "eaed36728b51950cdee59ce028f6d16b3bfb0363"
   },
   "source": [
    "# <a id=\"4\">Check the data</a>"
   ]
  },
  {
   "cell_type": "code",
   "execution_count": 8,
   "metadata": {
    "_uuid": "56e5bea59ca29389f818b03cfdb33209636fc868"
   },
   "outputs": [
    {
     "name": "stdout",
     "output_type": "stream",
     "text": [
      "Default Credit Card Clients data -  rows: 30000  columns: 26\n"
     ]
    }
   ],
   "source": [
    "print(\"Default Credit Card Clients data -  rows:\",data_df.shape[0],\" columns:\", data_df.shape[1])"
   ]
  },
  {
   "cell_type": "markdown",
   "metadata": {
    "_uuid": "73afc4261ca3b69f57522d88b5d47fd09aa1719b"
   },
   "source": [
    "# <a id=\"6\">Predictive models</a>  \n",
    "\n"
   ]
  },
  {
   "cell_type": "markdown",
   "metadata": {
    "_uuid": "596403a32cf55fdecf560e1d224d56b0f05b27d3"
   },
   "source": [
    "### Define predictors and target values\n",
    "\n",
    "Let's define the predictor features and the target features. Categorical features, if any, are also defined. In our case, there are no categorical feature."
   ]
  },
  {
   "cell_type": "code",
   "execution_count": 7,
   "metadata": {
    "_uuid": "ed83bdac133ff9798c30e47251b9df9b1caaebf2"
   },
   "outputs": [],
   "source": [
    "target = 'target'\n",
    "predictors = [  'limit_bal',\n",
    " 'sex',\n",
    " 'education',\n",
    " 'marriage',\n",
    " 'age',\n",
    " 'pay_0',\n",
    " 'pay_2',\n",
    " 'pay_3',\n",
    " 'pay_4',\n",
    " 'pay_5',\n",
    " 'pay_6',\n",
    " 'bill_amt2',\n",
    " 'bill_amt4',\n",
    " 'bill_amt6',\n",
    " 'pay_amt1',\n",
    " 'pay_amt2',\n",
    " 'pay_amt3',\n",
    " 'pay_amt4',\n",
    " 'pay_amt5',\n",
    " 'pay_amt6']"
   ]
  },
  {
   "cell_type": "markdown",
   "metadata": {
    "_uuid": "87ecb2db1421b29644b62775a84a874a9d2d4d4b"
   },
   "source": [
    "### Split data in train and validation using kfold\n",
    "\n"
   ]
  },
  {
   "cell_type": "code",
   "execution_count": 10,
   "metadata": {
    "_uuid": "7cba85c44c5b6522daa9a0f7cea8529034c0fbe2"
   },
   "outputs": [
    {
     "data": {
      "text/html": [
       "<div>\n",
       "<style scoped>\n",
       "    .dataframe tbody tr th:only-of-type {\n",
       "        vertical-align: middle;\n",
       "    }\n",
       "\n",
       "    .dataframe tbody tr th {\n",
       "        vertical-align: top;\n",
       "    }\n",
       "\n",
       "    .dataframe thead th {\n",
       "        text-align: right;\n",
       "    }\n",
       "</style>\n",
       "<table border=\"1\" class=\"dataframe\">\n",
       "  <thead>\n",
       "    <tr style=\"text-align: right;\">\n",
       "      <th></th>\n",
       "      <th>id</th>\n",
       "      <th>target</th>\n",
       "    </tr>\n",
       "    <tr>\n",
       "      <th>kfold</th>\n",
       "      <th></th>\n",
       "      <th></th>\n",
       "    </tr>\n",
       "  </thead>\n",
       "  <tbody>\n",
       "    <tr>\n",
       "      <th>0</th>\n",
       "      <td>6000</td>\n",
       "      <td>1327</td>\n",
       "    </tr>\n",
       "    <tr>\n",
       "      <th>1</th>\n",
       "      <td>6000</td>\n",
       "      <td>1327</td>\n",
       "    </tr>\n",
       "    <tr>\n",
       "      <th>2</th>\n",
       "      <td>6000</td>\n",
       "      <td>1327</td>\n",
       "    </tr>\n",
       "    <tr>\n",
       "      <th>3</th>\n",
       "      <td>6000</td>\n",
       "      <td>1327</td>\n",
       "    </tr>\n",
       "    <tr>\n",
       "      <th>4</th>\n",
       "      <td>6000</td>\n",
       "      <td>1328</td>\n",
       "    </tr>\n",
       "  </tbody>\n",
       "</table>\n",
       "</div>"
      ],
      "text/plain": [
       "         id  target\n",
       "kfold              \n",
       "0      6000    1327\n",
       "1      6000    1327\n",
       "2      6000    1327\n",
       "3      6000    1327\n",
       "4      6000    1328"
      ]
     },
     "execution_count": 10,
     "metadata": {},
     "output_type": "execute_result"
    }
   ],
   "source": [
    "data_df.groupby('kfold').agg({'id': 'count', 'target': 'sum'})"
   ]
  },
  {
   "cell_type": "markdown",
   "metadata": {
    "_uuid": "69bcbd2d41e85d4d9ef387002b38eea21b0db33d"
   },
   "source": [
    "We also make copies of the train_df and val_df for later usage."
   ]
  },
  {
   "cell_type": "code",
   "execution_count": 24,
   "metadata": {
    "_uuid": "39e5bd937ae1eb4fdf4157aba7401ce06e1552a4"
   },
   "outputs": [],
   "source": [
    "train_df_bkp = train_df.copy()\n",
    "val_df_bkp = val_df.copy()"
   ]
  },
  {
   "cell_type": "markdown",
   "metadata": {
    "_uuid": "1a7bacba0608e42987611ec8dcd92bf23bacee06"
   },
   "source": [
    "Let's start with a RandomForrestClassifier <a href='#8'>[3]</a>   model."
   ]
  },
  {
   "cell_type": "markdown",
   "metadata": {
    "_uuid": "096f1893c45701dd88e0f96b680a21d426a6925c"
   },
   "source": [
    "## <a id=\"61\">RandomForestClassifier</a>\n",
    "\n",
    "\n"
   ]
  },
  {
   "cell_type": "markdown",
   "metadata": {
    "_uuid": "e899349135d54641ab939fff53679195af84762e"
   },
   "source": [
    "Let's run a model using the training set for training. Then, we will use the validation set for validation. \n",
    "\n",
    "### Metric\n",
    "\n",
    "We will use as validation criterion **GINI**, which formula is **GINI = 2 * (AUC) - 1**, where **AUC** is the **Receiver Operating Characteristic - Area Under Curve (ROC-AUC)** <a href='#8'>[4]</a>.  Number of estimators is set to **100** and number of parallel jobs is set to **4**.\n",
    "\n",
    "We start by initializing the RandomForestClassifier."
   ]
  },
  {
   "cell_type": "code",
   "execution_count": 28,
   "metadata": {
    "_uuid": "0b68705dd0608bd3c7aa47155a36267eab7579f5"
   },
   "outputs": [],
   "source": [
    "clf = RandomForestClassifier(n_jobs=NO_JOBS, \n",
    "                             random_state=RANDOM_STATE,\n",
    "                             criterion=RFC_METRIC,\n",
    "                             n_estimators=NUM_ESTIMATORS,\n",
    "                             verbose=False)\n"
   ]
  },
  {
   "cell_type": "markdown",
   "metadata": {
    "_uuid": "9b8f790b4e490d9027101b00280f02db4edce713"
   },
   "source": [
    "Let's train the **RandonForestClassifier** using the **train_df** data and **fit** function."
   ]
  },
  {
   "cell_type": "code",
   "execution_count": 54,
   "metadata": {
    "_uuid": "e192077d77551fa432b472ad58d96e4724e005e2"
   },
   "outputs": [
    {
     "name": "stdout",
     "output_type": "stream",
     "text": [
      "Fold=0, roc_auc=0.6714045847886599\n",
      "Fold=1, roc_auc=0.6673577032096554\n",
      "Fold=2, roc_auc=0.6535746808898012\n",
      "Fold=3, roc_auc=0.6465318652213464\n",
      "Fold=4, roc_auc=0.645228172965836\n",
      "CV model - roc_auc - mean=0.657 - std=(0.011)\n"
     ]
    }
   ],
   "source": [
    "clf_models = train_cv(clf, data_df[predictors + ['kfold',LABEL]], 'roc_auc')\n"
   ]
  },
  {
   "cell_type": "markdown",
   "metadata": {
    "_uuid": "8ceaf179b74cabe9e1c2375196d8016e5d636198"
   },
   "source": [
    "Let's now predict the **target** values for the **val_df** data, using **predict** function."
   ]
  },
  {
   "cell_type": "markdown",
   "metadata": {
    "_uuid": "5c1204cda5a396d1032b6df71a2a88f072988fcd"
   },
   "source": [
    "Let's also visualize the features importance.\n",
    "\n",
    "### Features importance"
   ]
  },
  {
   "cell_type": "code",
   "execution_count": 55,
   "metadata": {
    "_uuid": "9e71725dd69c24eeb86fd46193c8aa92501b7a87"
   },
   "outputs": [
    {
     "data": {
      "image/png": "[encoded data removed]",
      "text/plain": [
       "<Figure size 504x288 with 1 Axes>"
      ]
     },
     "metadata": {
      "needs_background": "light"
     },
     "output_type": "display_data"
    }
   ],
   "source": [
    "tmp = pd.DataFrame({'Feature': predictors, 'Feature importance': np.mean([clf.feature_importances_ for clf in clf_models], axis=0)})\n",
    "tmp = tmp.sort_values(by='Feature importance',ascending=False)\n",
    "plt.figure(figsize = (7,4))\n",
    "plt.title('Features importance',fontsize=14)\n",
    "s = sns.barplot(x='Feature',y='Feature importance',data=tmp)\n",
    "s.set_xticklabels(s.get_xticklabels(),rotation=90)\n",
    "plt.show()   \n"
   ]
  },
  {
   "cell_type": "markdown",
   "metadata": {
    "_uuid": "5aabd45f5affab5f3cfd1759bf030b1851a5d3f4"
   },
   "source": [
    "The most important features are **PAY_0**, **AGE**, **BILL_AMT2**, **LIMIT_BAL**, **BILL_AMT4**, **BILL_AMT6**.\n",
    "\n",
    "\n",
    "### Lift \n",
    "\n",
    "Let's see the lift graph with the model we got"
   ]
  },
  {
   "cell_type": "code",
   "execution_count": 62,
   "metadata": {
    "_uuid": "099090571caa94dbd3c4c5c8b44786b5825d1d24"
   },
   "outputs": [
    {
     "name": "stderr",
     "output_type": "stream",
     "text": [
      "/Users/galissa/miniconda3/envs/ml/lib/python3.7/site-packages/sklearn/base.py:444: UserWarning: X has feature names, but RandomForestClassifier was fitted without feature names\n",
      "  f\"X has feature names, but {self.__class__.__name__} was fitted without\"\n"
     ]
    },
    {
     "data": {
      "image/png": "[encoded data removed]",
      "text/plain": [
       "<Figure size 432x288 with 1 Axes>"
      ]
     },
     "metadata": {
      "needs_background": "light"
     },
     "output_type": "display_data"
    }
   ],
   "source": [
    "FOLD = 0\n",
    "plot_lift(y_real=data_df[data_df.kfold==FOLD][LABEL],y_proba=clf_models[0].predict_proba(data_df[data_df.kfold==FOLD][predictors])[:,1])"
   ]
  },
  {
   "cell_type": "code",
   "execution_count": 63,
   "metadata": {},
   "outputs": [
    {
     "name": "stderr",
     "output_type": "stream",
     "text": [
      "/Users/galissa/miniconda3/envs/ml/lib/python3.7/site-packages/sklearn/base.py:444: UserWarning: X has feature names, but RandomForestClassifier was fitted without feature names\n",
      "  f\"X has feature names, but {self.__class__.__name__} was fitted without\"\n"
     ]
    },
    {
     "data": {
      "image/png": "[encoded data removed]",
      "text/plain": [
       "<Figure size 432x288 with 1 Axes>"
      ]
     },
     "metadata": {
      "needs_background": "light"
     },
     "output_type": "display_data"
    }
   ],
   "source": [
    "FOLD = 2\n",
    "plot_lift(y_real=data_df[data_df.kfold==FOLD][LABEL],y_proba=clf_models[0].predict_proba(data_df[data_df.kfold==FOLD][predictors])[:,1])"
   ]
  },
  {
   "cell_type": "code",
   "execution_count": 65,
   "metadata": {},
   "outputs": [
    {
     "name": "stderr",
     "output_type": "stream",
     "text": [
      "/Users/galissa/miniconda3/envs/ml/lib/python3.7/site-packages/sklearn/base.py:444: UserWarning: X has feature names, but RandomForestClassifier was fitted without feature names\n",
      "  f\"X has feature names, but {self.__class__.__name__} was fitted without\"\n"
     ]
    },
    {
     "data": {
      "image/png": "[encoded data removed]",
      "text/plain": [
       "<Figure size 432x288 with 1 Axes>"
      ]
     },
     "metadata": {
      "needs_background": "light"
     },
     "output_type": "display_data"
    }
   ],
   "source": [
    "FOLD = 3\n",
    "plot_lift(y_real=data_df[data_df.kfold==FOLD][LABEL],y_proba=clf_models[0].predict_proba(data_df[data_df.kfold==FOLD][predictors])[:,1])"
   ]
  },
  {
   "cell_type": "code",
   "execution_count": 64,
   "metadata": {},
   "outputs": [
    {
     "name": "stderr",
     "output_type": "stream",
     "text": [
      "/Users/galissa/miniconda3/envs/ml/lib/python3.7/site-packages/sklearn/base.py:444: UserWarning: X has feature names, but RandomForestClassifier was fitted without feature names\n",
      "  f\"X has feature names, but {self.__class__.__name__} was fitted without\"\n"
     ]
    },
    {
     "data": {
      "image/png": "[encoded data removed]",
      "text/plain": [
       "<Figure size 432x288 with 1 Axes>"
      ]
     },
     "metadata": {
      "needs_background": "light"
     },
     "output_type": "display_data"
    }
   ],
   "source": [
    "FOLD = 4\n",
    "plot_lift(y_real=data_df[data_df.kfold==FOLD][LABEL],y_proba=clf_models[0].predict_proba(data_df[data_df.kfold==FOLD][predictors])[:,1])"
   ]
  },
  {
   "cell_type": "markdown",
   "metadata": {
    "_uuid": "38c54fa21fdbaf4d839ec405503ba0c595f06221"
   },
   "source": [
    "The **ROC-AUC** score obtained with **RandomForrestClassifier** is **0.66**.\n",
    "\n",
    "\n",
    "Let's use for RandomForrestClassifier **dummified variables** for the **categorical features**.\n",
    "\n",
    "\n",
    "We start by defining the categorical features.\n",
    "\n",
    "\n",
    "### RandomForrest with OneHotEncoder"
   ]
  },
  {
   "cell_type": "code",
   "execution_count": 66,
   "metadata": {
    "_uuid": "93dad6172fdd5f8318439a39844f587ed2c2d375"
   },
   "outputs": [],
   "source": [
    "cat_features = ['education', 'sex', 'marriage']"
   ]
  },
  {
   "cell_type": "code",
   "execution_count": 67,
   "metadata": {
    "_uuid": "47e3e1a5f242a891cce4d36f895fea99d61c42c7"
   },
   "outputs": [],
   "source": [
    "data_ohe_df = pd.get_dummies(data_df, columns = cat_features)\n"
   ]
  },
  {
   "cell_type": "code",
   "execution_count": 68,
   "metadata": {
    "_uuid": "87da5bd3c3eb8270452520f32903e53325a6256c"
   },
   "outputs": [
    {
     "name": "stdout",
     "output_type": "stream",
     "text": [
      "Default of Credit Card Clients train data -  rows: 30000  columns: 36\n"
     ]
    }
   ],
   "source": [
    "print(\"Default of Credit Card Clients train data -  rows:\",data_ohe_df.shape[0],\" columns:\", data_ohe_df.shape[1])\n"
   ]
  },
  {
   "cell_type": "code",
   "execution_count": 69,
   "metadata": {
    "_uuid": "ef0289dee21fecb61fa7d87b474833b98a84dfa3",
    "collapsed": true,
    "jupyter": {
     "outputs_hidden": true
    }
   },
   "outputs": [
    {
     "data": {
      "text/html": [
       "<div>\n",
       "<style scoped>\n",
       "    .dataframe tbody tr th:only-of-type {\n",
       "        vertical-align: middle;\n",
       "    }\n",
       "\n",
       "    .dataframe tbody tr th {\n",
       "        vertical-align: top;\n",
       "    }\n",
       "\n",
       "    .dataframe thead th {\n",
       "        text-align: right;\n",
       "    }\n",
       "</style>\n",
       "<table border=\"1\" class=\"dataframe\">\n",
       "  <thead>\n",
       "    <tr style=\"text-align: right;\">\n",
       "      <th></th>\n",
       "      <th>id</th>\n",
       "      <th>limit_bal</th>\n",
       "      <th>age</th>\n",
       "      <th>pay_0</th>\n",
       "      <th>pay_2</th>\n",
       "      <th>pay_3</th>\n",
       "      <th>pay_4</th>\n",
       "      <th>pay_5</th>\n",
       "      <th>pay_6</th>\n",
       "      <th>bill_amt1</th>\n",
       "      <th>bill_amt2</th>\n",
       "      <th>bill_amt3</th>\n",
       "      <th>bill_amt4</th>\n",
       "      <th>bill_amt5</th>\n",
       "      <th>bill_amt6</th>\n",
       "      <th>pay_amt1</th>\n",
       "      <th>pay_amt2</th>\n",
       "      <th>pay_amt3</th>\n",
       "      <th>pay_amt4</th>\n",
       "      <th>pay_amt5</th>\n",
       "      <th>pay_amt6</th>\n",
       "      <th>target</th>\n",
       "      <th>kfold</th>\n",
       "      <th>education_0</th>\n",
       "      <th>education_1</th>\n",
       "      <th>education_2</th>\n",
       "      <th>education_3</th>\n",
       "      <th>education_4</th>\n",
       "      <th>education_5</th>\n",
       "      <th>education_6</th>\n",
       "      <th>sex_1</th>\n",
       "      <th>sex_2</th>\n",
       "      <th>marriage_0</th>\n",
       "      <th>marriage_1</th>\n",
       "      <th>marriage_2</th>\n",
       "      <th>marriage_3</th>\n",
       "    </tr>\n",
       "  </thead>\n",
       "  <tbody>\n",
       "    <tr>\n",
       "      <th>0</th>\n",
       "      <td>27063</td>\n",
       "      <td>290000</td>\n",
       "      <td>41</td>\n",
       "      <td>0</td>\n",
       "      <td>0</td>\n",
       "      <td>0</td>\n",
       "      <td>0</td>\n",
       "      <td>0</td>\n",
       "      <td>0</td>\n",
       "      <td>293281</td>\n",
       "      <td>268030</td>\n",
       "      <td>157691</td>\n",
       "      <td>158720</td>\n",
       "      <td>144085</td>\n",
       "      <td>143663</td>\n",
       "      <td>7948</td>\n",
       "      <td>22429</td>\n",
       "      <td>5530</td>\n",
       "      <td>4442</td>\n",
       "      <td>5887</td>\n",
       "      <td>5890</td>\n",
       "      <td>0</td>\n",
       "      <td>0</td>\n",
       "      <td>0</td>\n",
       "      <td>0</td>\n",
       "      <td>0</td>\n",
       "      <td>1</td>\n",
       "      <td>0</td>\n",
       "      <td>0</td>\n",
       "      <td>0</td>\n",
       "      <td>1</td>\n",
       "      <td>0</td>\n",
       "      <td>0</td>\n",
       "      <td>0</td>\n",
       "      <td>1</td>\n",
       "      <td>0</td>\n",
       "    </tr>\n",
       "    <tr>\n",
       "      <th>1</th>\n",
       "      <td>6786</td>\n",
       "      <td>80000</td>\n",
       "      <td>42</td>\n",
       "      <td>-2</td>\n",
       "      <td>-2</td>\n",
       "      <td>-2</td>\n",
       "      <td>-2</td>\n",
       "      <td>-2</td>\n",
       "      <td>-2</td>\n",
       "      <td>0</td>\n",
       "      <td>0</td>\n",
       "      <td>0</td>\n",
       "      <td>0</td>\n",
       "      <td>0</td>\n",
       "      <td>0</td>\n",
       "      <td>0</td>\n",
       "      <td>0</td>\n",
       "      <td>0</td>\n",
       "      <td>0</td>\n",
       "      <td>0</td>\n",
       "      <td>0</td>\n",
       "      <td>0</td>\n",
       "      <td>0</td>\n",
       "      <td>0</td>\n",
       "      <td>0</td>\n",
       "      <td>0</td>\n",
       "      <td>1</td>\n",
       "      <td>0</td>\n",
       "      <td>0</td>\n",
       "      <td>0</td>\n",
       "      <td>0</td>\n",
       "      <td>1</td>\n",
       "      <td>0</td>\n",
       "      <td>1</td>\n",
       "      <td>0</td>\n",
       "      <td>0</td>\n",
       "    </tr>\n",
       "    <tr>\n",
       "      <th>2</th>\n",
       "      <td>12263</td>\n",
       "      <td>50000</td>\n",
       "      <td>25</td>\n",
       "      <td>1</td>\n",
       "      <td>2</td>\n",
       "      <td>0</td>\n",
       "      <td>0</td>\n",
       "      <td>0</td>\n",
       "      <td>0</td>\n",
       "      <td>19454</td>\n",
       "      <td>18856</td>\n",
       "      <td>19590</td>\n",
       "      <td>18861</td>\n",
       "      <td>4581</td>\n",
       "      <td>2158</td>\n",
       "      <td>0</td>\n",
       "      <td>1200</td>\n",
       "      <td>477</td>\n",
       "      <td>121</td>\n",
       "      <td>22</td>\n",
       "      <td>0</td>\n",
       "      <td>0</td>\n",
       "      <td>0</td>\n",
       "      <td>0</td>\n",
       "      <td>0</td>\n",
       "      <td>1</td>\n",
       "      <td>0</td>\n",
       "      <td>0</td>\n",
       "      <td>0</td>\n",
       "      <td>0</td>\n",
       "      <td>0</td>\n",
       "      <td>1</td>\n",
       "      <td>0</td>\n",
       "      <td>1</td>\n",
       "      <td>0</td>\n",
       "      <td>0</td>\n",
       "    </tr>\n",
       "    <tr>\n",
       "      <th>3</th>\n",
       "      <td>16349</td>\n",
       "      <td>500000</td>\n",
       "      <td>34</td>\n",
       "      <td>-2</td>\n",
       "      <td>-2</td>\n",
       "      <td>-2</td>\n",
       "      <td>-2</td>\n",
       "      <td>-2</td>\n",
       "      <td>-2</td>\n",
       "      <td>11765</td>\n",
       "      <td>6599</td>\n",
       "      <td>11421</td>\n",
       "      <td>-83</td>\n",
       "      <td>49699</td>\n",
       "      <td>3821</td>\n",
       "      <td>6648</td>\n",
       "      <td>11986</td>\n",
       "      <td>0</td>\n",
       "      <td>49947</td>\n",
       "      <td>3840</td>\n",
       "      <td>11939</td>\n",
       "      <td>0</td>\n",
       "      <td>0</td>\n",
       "      <td>0</td>\n",
       "      <td>1</td>\n",
       "      <td>0</td>\n",
       "      <td>0</td>\n",
       "      <td>0</td>\n",
       "      <td>0</td>\n",
       "      <td>0</td>\n",
       "      <td>0</td>\n",
       "      <td>1</td>\n",
       "      <td>0</td>\n",
       "      <td>0</td>\n",
       "      <td>1</td>\n",
       "      <td>0</td>\n",
       "    </tr>\n",
       "    <tr>\n",
       "      <th>4</th>\n",
       "      <td>1500</td>\n",
       "      <td>20000</td>\n",
       "      <td>27</td>\n",
       "      <td>1</td>\n",
       "      <td>2</td>\n",
       "      <td>-1</td>\n",
       "      <td>-1</td>\n",
       "      <td>0</td>\n",
       "      <td>0</td>\n",
       "      <td>6274</td>\n",
       "      <td>5971</td>\n",
       "      <td>3980</td>\n",
       "      <td>9040</td>\n",
       "      <td>9040</td>\n",
       "      <td>0</td>\n",
       "      <td>0</td>\n",
       "      <td>4000</td>\n",
       "      <td>9040</td>\n",
       "      <td>0</td>\n",
       "      <td>0</td>\n",
       "      <td>17291</td>\n",
       "      <td>0</td>\n",
       "      <td>0</td>\n",
       "      <td>0</td>\n",
       "      <td>1</td>\n",
       "      <td>0</td>\n",
       "      <td>0</td>\n",
       "      <td>0</td>\n",
       "      <td>0</td>\n",
       "      <td>0</td>\n",
       "      <td>1</td>\n",
       "      <td>0</td>\n",
       "      <td>0</td>\n",
       "      <td>0</td>\n",
       "      <td>1</td>\n",
       "      <td>0</td>\n",
       "    </tr>\n",
       "  </tbody>\n",
       "</table>\n",
       "</div>"
      ],
      "text/plain": [
       "      id  limit_bal  age  pay_0  pay_2  pay_3  pay_4  pay_5  pay_6  bill_amt1  \\\n",
       "0  27063     290000   41      0      0      0      0      0      0     293281   \n",
       "1   6786      80000   42     -2     -2     -2     -2     -2     -2          0   \n",
       "2  12263      50000   25      1      2      0      0      0      0      19454   \n",
       "3  16349     500000   34     -2     -2     -2     -2     -2     -2      11765   \n",
       "4   1500      20000   27      1      2     -1     -1      0      0       6274   \n",
       "\n",
       "   bill_amt2  bill_amt3  bill_amt4  bill_amt5  bill_amt6  pay_amt1  pay_amt2  \\\n",
       "0     268030     157691     158720     144085     143663      7948     22429   \n",
       "1          0          0          0          0          0         0         0   \n",
       "2      18856      19590      18861       4581       2158         0      1200   \n",
       "3       6599      11421        -83      49699       3821      6648     11986   \n",
       "4       5971       3980       9040       9040          0         0      4000   \n",
       "\n",
       "   pay_amt3  pay_amt4  pay_amt5  pay_amt6  target  kfold  education_0  \\\n",
       "0      5530      4442      5887      5890       0      0            0   \n",
       "1         0         0         0         0       0      0            0   \n",
       "2       477       121        22         0       0      0            0   \n",
       "3         0     49947      3840     11939       0      0            0   \n",
       "4      9040         0         0     17291       0      0            0   \n",
       "\n",
       "   education_1  education_2  education_3  education_4  education_5  \\\n",
       "0            0            0            1            0            0   \n",
       "1            0            0            1            0            0   \n",
       "2            0            1            0            0            0   \n",
       "3            1            0            0            0            0   \n",
       "4            1            0            0            0            0   \n",
       "\n",
       "   education_6  sex_1  sex_2  marriage_0  marriage_1  marriage_2  marriage_3  \n",
       "0            0      1      0           0           0           1           0  \n",
       "1            0      0      1           0           1           0           0  \n",
       "2            0      0      1           0           1           0           0  \n",
       "3            0      0      1           0           0           1           0  \n",
       "4            0      1      0           0           0           1           0  "
      ]
     },
     "execution_count": 69,
     "metadata": {},
     "output_type": "execute_result"
    }
   ],
   "source": [
    "data_ohe_df.head(5)"
   ]
  },
  {
   "cell_type": "markdown",
   "metadata": {
    "_uuid": "1eedb88befc2cf7d65058678a14065501cf7b113"
   },
   "source": [
    "Let's define the target and predictors lists."
   ]
  },
  {
   "cell_type": "code",
   "execution_count": 72,
   "metadata": {
    "_uuid": "6abb7d724ee1f8436dd1f0d929ef7d817a74a302",
    "collapsed": true,
    "jupyter": {
     "outputs_hidden": true
    }
   },
   "outputs": [],
   "source": [
    "predictors_ohe = [\n",
    "              'limit_bal', 'age', 'pay_0', 'pay_2', 'pay_3',\n",
    "              'pay_4', 'pay_5', 'pay_6', 'bill_amt2', 'bill_amt4', 'bill_amt6', 'pay_amt1',\n",
    "              'pay_amt2', 'pay_amt3', 'pay_amt4', 'pay_amt5', 'pay_amt6',\n",
    "              'education_0', 'education_1', 'education_2', 'education_3', 'education_4',\n",
    "              'education_5', 'education_6', 'sex_1', 'sex_2', 'marriage_0',\n",
    "              'marriage_1', 'marriage_2', 'marriage_3'\n",
    "              ]"
   ]
  },
  {
   "cell_type": "markdown",
   "metadata": {
    "_uuid": "95a702391e3c21dc91fe1e54da4b90de4dcdd561"
   },
   "source": [
    "Let's train the **RandonForestClassifier** using the **train_fa_df** data and **fit** function."
   ]
  },
  {
   "cell_type": "code",
   "execution_count": 76,
   "metadata": {
    "_uuid": "d937c07225cef0c88c119679c90401b489560247",
    "collapsed": true,
    "jupyter": {
     "outputs_hidden": true
    }
   },
   "outputs": [
    {
     "name": "stdout",
     "output_type": "stream",
     "text": [
      "Fold=0, roc_auc=0.6790939823137003\n",
      "Fold=1, roc_auc=0.6683718828570098\n",
      "Fold=2, roc_auc=0.6513697391950519\n",
      "Fold=3, roc_auc=0.6520255130121877\n",
      "Fold=4, roc_auc=0.6463499546129724\n",
      "CV model - roc_auc - mean=0.659 - std=(0.012)\n"
     ]
    }
   ],
   "source": [
    "\n",
    "clf_models = train_cv(clf, data_ohe_df[predictors_ohe + ['kfold',LABEL]], 'roc_auc')\n"
   ]
  },
  {
   "cell_type": "markdown",
   "metadata": {
    "_uuid": "f6037237305387f0898ea2c2c086be4a4f55dba5"
   },
   "source": [
    "Let's also visualize the features importance. \n",
    "\n",
    "#### Features importance"
   ]
  },
  {
   "cell_type": "code",
   "execution_count": 78,
   "metadata": {
    "_uuid": "54c08e38ff34f2c79e3d656cd5e5378c6289ded2",
    "collapsed": true,
    "jupyter": {
     "outputs_hidden": true
    }
   },
   "outputs": [
    {
     "data": {
      "image/png": "[encoded data removed]",
      "text/plain": [
       "<Figure size 504x288 with 1 Axes>"
      ]
     },
     "metadata": {
      "needs_background": "light"
     },
     "output_type": "display_data"
    }
   ],
   "source": [
    "tmp = pd.DataFrame({'Feature': predictors_ohe, 'Feature importance': np.mean([clf.feature_importances_ for clf in clf_models], axis=0)})\n",
    "tmp = tmp.sort_values(by='Feature importance',ascending=False)\n",
    "plt.figure(figsize = (7,4))\n",
    "plt.title('Features importance',fontsize=14)\n",
    "s = sns.barplot(x='Feature',y='Feature importance',data=tmp)\n",
    "s.set_xticklabels(s.get_xticklabels(),rotation=90)\n",
    "plt.show()   \n"
   ]
  },
  {
   "cell_type": "markdown",
   "metadata": {
    "_uuid": "058f244b751884360cbc9ba27c7eec842131f8ac"
   },
   "source": [
    "The most important features are **AGE**, **LIMIT_BAL**, **BILL_AMT1**, **PAY_0_2**, **BILL_AMT2**, **BILL_AMT3**."
   ]
  },
  {
   "cell_type": "markdown",
   "metadata": {
    "_uuid": "81f3ff9013ac7f6c7a0c9c06e0ad746b6d056901"
   },
   "source": [
    "#### Lift curve\n",
    "\n",
    "Let's show a confusion matrix for the results we obtained. "
   ]
  },
  {
   "cell_type": "code",
   "execution_count": 80,
   "metadata": {},
   "outputs": [
    {
     "name": "stderr",
     "output_type": "stream",
     "text": [
      "/Users/galissa/miniconda3/envs/ml/lib/python3.7/site-packages/sklearn/base.py:444: UserWarning: X has feature names, but RandomForestClassifier was fitted without feature names\n",
      "  f\"X has feature names, but {self.__class__.__name__} was fitted without\"\n"
     ]
    },
    {
     "data": {
      "image/png": "[encoded data removed]",
      "text/plain": [
       "<Figure size 432x288 with 1 Axes>"
      ]
     },
     "metadata": {
      "needs_background": "light"
     },
     "output_type": "display_data"
    }
   ],
   "source": [
    "FOLD = 0\n",
    "plot_lift(y_real=data_ohe_df[data_ohe_df.kfold==FOLD][LABEL],y_proba=clf_models[0].predict_proba(data_ohe_df[data_ohe_df.kfold==FOLD][predictors_ohe])[:,1])"
   ]
  },
  {
   "cell_type": "code",
   "execution_count": 82,
   "metadata": {},
   "outputs": [
    {
     "name": "stderr",
     "output_type": "stream",
     "text": [
      "/Users/galissa/miniconda3/envs/ml/lib/python3.7/site-packages/sklearn/base.py:444: UserWarning: X has feature names, but RandomForestClassifier was fitted without feature names\n",
      "  f\"X has feature names, but {self.__class__.__name__} was fitted without\"\n"
     ]
    },
    {
     "data": {
      "image/png": "[encoded data removed]",
      "text/plain": [
       "<Figure size 432x288 with 1 Axes>"
      ]
     },
     "metadata": {
      "needs_background": "light"
     },
     "output_type": "display_data"
    }
   ],
   "source": [
    "FOLD = 4\n",
    "plot_lift(y_real=data_ohe_df[data_ohe_df.kfold==FOLD][LABEL],\n",
    "        y_proba=clf_models[0].predict_proba(data_ohe_df[data_ohe_df.kfold==FOLD][predictors_ohe])[:,1])"
   ]
  },
  {
   "cell_type": "markdown",
   "metadata": {
    "_uuid": "adf17e8c4a11913d8f24621f5282614cf9d4830c"
   },
   "source": [
    "With the dummified features, the improvement of the AUC score is quite small."
   ]
  },
  {
   "cell_type": "markdown",
   "metadata": {},
   "source": [
    "## <a id=\"63\">Logist Regression</a>\n",
    "\n",
    "\n",
    "Logist Regression  is a gradient boosting for decision trees algorithm with support for handling categorical data <a href='#8'>[6]</a>.\n",
    "\n",
    "### Prepare the model\n",
    "\n",
    "Let's set the parameters for the model and initialize the model."
   ]
  },
  {
   "cell_type": "code",
   "execution_count": 132,
   "metadata": {},
   "outputs": [],
   "source": [
    "data_ohe_df = winsorizer(data_ohe_df, predictors_ohe[0:17])"
   ]
  },
  {
   "cell_type": "code",
   "execution_count": 136,
   "metadata": {},
   "outputs": [],
   "source": [
    "data_norm_df = preprocessing.normalize(data_ohe_df[predictors_ohe[:17]], axis=0)\n",
    "data_norm_df = pd.DataFrame(data_norm_df, columns=predictors_ohe[:17])"
   ]
  },
  {
   "cell_type": "code",
   "execution_count": 141,
   "metadata": {},
   "outputs": [],
   "source": [
    "data_norm_df = data_norm_df.join(data_ohe_df[predictors_ohe[17:]]).join(data_df[[\"kfold\", LABEL]])\n"
   ]
  },
  {
   "cell_type": "code",
   "execution_count": 152,
   "metadata": {},
   "outputs": [],
   "source": [
    "clf = LogisticRegression(solver='liblinear', random_state=0)"
   ]
  },
  {
   "cell_type": "code",
   "execution_count": 153,
   "metadata": {},
   "outputs": [
    {
     "data": {
      "text/plain": [
       "kfold\n",
       "0    1327\n",
       "1    1327\n",
       "2    1327\n",
       "3    1327\n",
       "4    1328\n",
       "Name: target, dtype: int64"
      ]
     },
     "execution_count": 153,
     "metadata": {},
     "output_type": "execute_result"
    }
   ],
   "source": [
    "data_norm_df[predictors_ohe + ['kfold',LABEL]].groupby(\"kfold\").target.sum()"
   ]
  },
  {
   "cell_type": "code",
   "execution_count": 157,
   "metadata": {},
   "outputs": [
    {
     "name": "stdout",
     "output_type": "stream",
     "text": [
      "Fold=0, roc_auc=0.5029631171776617\n",
      "Fold=1, roc_auc=0.5017257502776535\n",
      "Fold=2, roc_auc=0.5021537408618607\n",
      "Fold=3, roc_auc=0.5007023786697491\n",
      "Fold=4, roc_auc=0.5005389709523024\n",
      "CV model - roc_auc - mean=0.502 - std=(0.001)\n"
     ]
    }
   ],
   "source": [
    "clf_models = train_cv(clf, data_ohe_df[predictors_ohe + ['kfold',LABEL]], 'roc_auc')"
   ]
  },
  {
   "cell_type": "code",
   "execution_count": 155,
   "metadata": {},
   "outputs": [],
   "source": [
    "from sklearn.linear_model import Lasso"
   ]
  },
  {
   "cell_type": "code",
   "execution_count": 158,
   "metadata": {},
   "outputs": [
    {
     "name": "stdout",
     "output_type": "stream",
     "text": [
      "Fold=0, roc_auc=0.6718085472654644\n",
      "Fold=1, roc_auc=0.6783568515825734\n",
      "Fold=2, roc_auc=0.6752358584509031\n",
      "Fold=3, roc_auc=0.6645452858062745\n",
      "Fold=4, roc_auc=0.6532538275963442\n",
      "CV model - roc_auc - mean=0.669 - std=(0.009)\n"
     ]
    }
   ],
   "source": [
    "lasso = Lasso(alpha=1.0)\n",
    "clf_models = train_cv(lasso, data_ohe_df[predictors_ohe + ['kfold',LABEL]], 'roc_auc')"
   ]
  },
  {
   "cell_type": "code",
   "execution_count": 162,
   "metadata": {},
   "outputs": [
    {
     "data": {
      "image/png": "[encoded data removed]",
      "text/plain": [
       "<Figure size 504x288 with 1 Axes>"
      ]
     },
     "metadata": {
      "needs_background": "light"
     },
     "output_type": "display_data"
    }
   ],
   "source": [
    "tmp = pd.DataFrame({'Feature': predictors_ohe, 'Feature importance': np.mean([clf.coef_ for clf in clf_models], axis=0)})\n",
    "tmp = tmp.sort_values(by='Feature importance',ascending=False)\n",
    "plt.figure(figsize = (7,4))\n",
    "plt.title('Features importance',fontsize=14)\n",
    "s = sns.barplot(x='Feature',y='Feature importance',data=tmp)\n",
    "s.set_xticklabels(s.get_xticklabels(),rotation=90)\n",
    "plt.show()   \n"
   ]
  },
  {
   "cell_type": "markdown",
   "metadata": {
    "_uuid": "4429ce0917053f8abd0010ec377ffbe797ed10dd"
   },
   "source": [
    "## <a id=\"63\">CatBoostClassifier</a>\n",
    "\n",
    "\n",
    "CatBoostClassifier is a gradient boosting for decision trees algorithm with support for handling categorical data <a href='#8'>[6]</a>.\n",
    "\n",
    "### Prepare the model\n",
    "\n",
    "Let's set the parameters for the model and initialize the model."
   ]
  },
  {
   "cell_type": "code",
   "execution_count": 92,
   "metadata": {
    "_uuid": "16d86c3b7fb072a883916dfeb93b0a068aec3d54",
    "collapsed": true,
    "jupyter": {
     "outputs_hidden": true
    }
   },
   "outputs": [],
   "source": [
    "clf = CatBoostClassifier(iterations=500,\n",
    "                             learning_rate=0.02,\n",
    "                             depth=12,\n",
    "                             eval_metric='AUC',\n",
    "                             random_seed = RANDOM_STATE,\n",
    "                             bagging_temperature = 0.2,\n",
    "                             od_type='Iter',\n",
    "                             metric_period = VERBOSE_EVAL,\n",
    "                             od_wait=100)"
   ]
  },
  {
   "cell_type": "code",
   "execution_count": 93,
   "metadata": {
    "_uuid": "1835d86178b7ed6e993787ff62bc68586ca61e97",
    "collapsed": true,
    "jupyter": {
     "outputs_hidden": true
    }
   },
   "outputs": [
    {
     "name": "stdout",
     "output_type": "stream",
     "text": [
      "0:\ttotal: 156ms\tremaining: 1m 17s\n",
      "50:\ttotal: 4.49s\tremaining: 39.5s\n",
      "100:\ttotal: 8.27s\tremaining: 32.7s\n",
      "150:\ttotal: 12s\tremaining: 27.8s\n",
      "200:\ttotal: 15.9s\tremaining: 23.7s\n",
      "250:\ttotal: 19.5s\tremaining: 19.4s\n",
      "300:\ttotal: 23.2s\tremaining: 15.4s\n",
      "350:\ttotal: 26.9s\tremaining: 11.4s\n",
      "400:\ttotal: 30.8s\tremaining: 7.6s\n",
      "450:\ttotal: 34.6s\tremaining: 3.76s\n",
      "499:\ttotal: 38.2s\tremaining: 0us\n",
      "Fold=0, roc_auc=0.6695534529438544\n",
      "0:\ttotal: 91.4ms\tremaining: 45.6s\n",
      "50:\ttotal: 3.68s\tremaining: 32.4s\n",
      "100:\ttotal: 7.31s\tremaining: 28.9s\n",
      "150:\ttotal: 11s\tremaining: 25.5s\n",
      "200:\ttotal: 14.8s\tremaining: 21.9s\n",
      "250:\ttotal: 18.4s\tremaining: 18.3s\n",
      "300:\ttotal: 22.2s\tremaining: 14.7s\n",
      "350:\ttotal: 25.9s\tremaining: 11s\n",
      "400:\ttotal: 29.5s\tremaining: 7.29s\n",
      "450:\ttotal: 33.3s\tremaining: 3.61s\n",
      "499:\ttotal: 37s\tremaining: 0us\n",
      "Fold=1, roc_auc=0.6639528075069613\n",
      "0:\ttotal: 92.4ms\tremaining: 46.1s\n",
      "50:\ttotal: 3.56s\tremaining: 31.3s\n",
      "100:\ttotal: 7.33s\tremaining: 28.9s\n",
      "150:\ttotal: 11s\tremaining: 25.5s\n",
      "200:\ttotal: 14.8s\tremaining: 22s\n",
      "250:\ttotal: 18.5s\tremaining: 18.3s\n",
      "300:\ttotal: 22.2s\tremaining: 14.7s\n",
      "350:\ttotal: 26s\tremaining: 11s\n",
      "400:\ttotal: 29.7s\tremaining: 7.33s\n",
      "450:\ttotal: 33.3s\tremaining: 3.62s\n",
      "499:\ttotal: 37s\tremaining: 0us\n",
      "Fold=2, roc_auc=0.6536120937818645\n",
      "0:\ttotal: 88.6ms\tremaining: 44.2s\n",
      "50:\ttotal: 3.57s\tremaining: 31.5s\n",
      "100:\ttotal: 7.22s\tremaining: 28.5s\n",
      "150:\ttotal: 11s\tremaining: 25.4s\n",
      "200:\ttotal: 14.6s\tremaining: 21.7s\n",
      "250:\ttotal: 18.3s\tremaining: 18.2s\n",
      "300:\ttotal: 22.1s\tremaining: 14.6s\n",
      "350:\ttotal: 25.8s\tremaining: 11s\n",
      "400:\ttotal: 29.5s\tremaining: 7.29s\n",
      "450:\ttotal: 33.2s\tremaining: 3.61s\n",
      "499:\ttotal: 36.9s\tremaining: 0us\n",
      "Fold=3, roc_auc=0.6457041049844455\n",
      "0:\ttotal: 85.8ms\tremaining: 42.8s\n",
      "50:\ttotal: 3.66s\tremaining: 32.2s\n",
      "100:\ttotal: 7.24s\tremaining: 28.6s\n",
      "150:\ttotal: 10.9s\tremaining: 25.3s\n",
      "200:\ttotal: 14.7s\tremaining: 21.8s\n",
      "250:\ttotal: 18.3s\tremaining: 18.2s\n",
      "300:\ttotal: 21.9s\tremaining: 14.5s\n",
      "350:\ttotal: 25.8s\tremaining: 10.9s\n",
      "400:\ttotal: 29.3s\tremaining: 7.23s\n",
      "450:\ttotal: 32.7s\tremaining: 3.55s\n",
      "499:\ttotal: 36.1s\tremaining: 0us\n",
      "Fold=4, roc_auc=0.6488114272157122\n",
      "CV model - roc_auc - mean=0.656 - std=(0.009)\n"
     ]
    }
   ],
   "source": [
    "clf_models = train_cv(clf, data_df[predictors + ['kfold',LABEL]], 'roc_auc')\n"
   ]
  },
  {
   "cell_type": "markdown",
   "metadata": {
    "_uuid": "57dd45742af8dc9d6386c3adbb847542c9fe129e"
   },
   "source": [
    "### Features importance\n",
    "\n",
    "Let's see also the features importance."
   ]
  },
  {
   "cell_type": "code",
   "execution_count": 94,
   "metadata": {
    "_uuid": "3672b63489536560a0f523611553c0e863325272",
    "collapsed": true,
    "jupyter": {
     "outputs_hidden": true
    }
   },
   "outputs": [
    {
     "data": {
      "image/png": "[encoded data removed]",
      "text/plain": [
       "<Figure size 504x288 with 1 Axes>"
      ]
     },
     "metadata": {
      "needs_background": "light"
     },
     "output_type": "display_data"
    }
   ],
   "source": [
    "tmp = pd.DataFrame({'Feature': predictors, 'Feature importance': np.mean([clf.feature_importances_ for clf in clf_models], axis=0)})\n",
    "tmp = tmp.sort_values(by='Feature importance',ascending=False)\n",
    "plt.figure(figsize = (7,4))\n",
    "plt.title('Features importance',fontsize=14)\n",
    "s = sns.barplot(x='Feature',y='Feature importance',data=tmp)\n",
    "s.set_xticklabels(s.get_xticklabels(),rotation=90)\n",
    "plt.show()   \n"
   ]
  },
  {
   "cell_type": "markdown",
   "metadata": {
    "_uuid": "ee9a2f4aa5b5125c1b4c3a5beb7138dec8f439f0"
   },
   "source": [
    "### Lift curve\n",
    "\n",
    "Let's visualize the confusion matrix."
   ]
  },
  {
   "cell_type": "code",
   "execution_count": 95,
   "metadata": {
    "_uuid": "26d7e013a565e4d5a682e5ebc5c13c1bc2307392",
    "collapsed": true,
    "jupyter": {
     "outputs_hidden": true
    }
   },
   "outputs": [
    {
     "data": {
      "image/png": "[encoded data removed]",
      "text/plain": [
       "<Figure size 432x288 with 1 Axes>"
      ]
     },
     "metadata": {
      "needs_background": "light"
     },
     "output_type": "display_data"
    }
   ],
   "source": [
    "FOLD = 0\n",
    "plot_lift(y_real=data_df[data_df.kfold==FOLD][LABEL],y_proba=clf_models[0].predict_proba(data_df[data_df.kfold==FOLD][predictors])[:,1])"
   ]
  },
  {
   "cell_type": "code",
   "execution_count": 96,
   "metadata": {
    "_uuid": "bc67728616b6f2144f62f941d0214204be96cae9",
    "collapsed": true,
    "jupyter": {
     "outputs_hidden": true
    }
   },
   "outputs": [
    {
     "data": {
      "image/png": "[encoded data removed]",
      "text/plain": [
       "<Figure size 432x288 with 1 Axes>"
      ]
     },
     "metadata": {
      "needs_background": "light"
     },
     "output_type": "display_data"
    }
   ],
   "source": [
    "FOLD = 1\n",
    "plot_lift(y_real=data_df[data_df.kfold==FOLD][LABEL],y_proba=clf_models[0].predict_proba(data_df[data_df.kfold==FOLD][predictors])[:,1])"
   ]
  },
  {
   "cell_type": "code",
   "execution_count": 97,
   "metadata": {},
   "outputs": [
    {
     "data": {
      "image/png": "[encoded data removed]",
      "text/plain": [
       "<Figure size 432x288 with 1 Axes>"
      ]
     },
     "metadata": {
      "needs_background": "light"
     },
     "output_type": "display_data"
    }
   ],
   "source": [
    "FOLD = 2\n",
    "plot_lift(y_real=data_df[data_df.kfold==FOLD][LABEL],y_proba=clf_models[0].predict_proba(data_df[data_df.kfold==FOLD][predictors])[:,1])"
   ]
  },
  {
   "cell_type": "code",
   "execution_count": 99,
   "metadata": {},
   "outputs": [
    {
     "data": {
      "image/png": "[encoded data removed]",
      "text/plain": [
       "<Figure size 432x288 with 1 Axes>"
      ]
     },
     "metadata": {
      "needs_background": "light"
     },
     "output_type": "display_data"
    }
   ],
   "source": [
    "FOLD = 3\n",
    "plot_lift(y_real=data_df[data_df.kfold==FOLD][LABEL],y_proba=clf_models[0].predict_proba(data_df[data_df.kfold==FOLD][predictors])[:,1])"
   ]
  },
  {
   "cell_type": "code",
   "execution_count": 98,
   "metadata": {},
   "outputs": [
    {
     "data": {
      "image/png": "[encoded data removed]",
      "text/plain": [
       "<Figure size 432x288 with 1 Axes>"
      ]
     },
     "metadata": {
      "needs_background": "light"
     },
     "output_type": "display_data"
    }
   ],
   "source": [
    "FOLD = 4\n",
    "plot_lift(y_real=data_df[data_df.kfold==FOLD][LABEL],y_proba=clf_models[0].predict_proba(data_df[data_df.kfold==FOLD][predictors])[:,1])"
   ]
  },
  {
   "cell_type": "markdown",
   "metadata": {
    "_uuid": "430f9d3653b650c71b4293601a1f18b0a171d476"
   },
   "source": [
    "The ROC-AUC score obtained with CatBoostClassifier is 0.66."
   ]
  },
  {
   "cell_type": "markdown",
   "metadata": {
    "_uuid": "5971335ef6cbaa165aed82b2ed6860037ad69439"
   },
   "source": [
    "## <a id=\"64\">XGBoost</a>"
   ]
  },
  {
   "cell_type": "markdown",
   "metadata": {
    "_uuid": "6b4abdda9afec63ecf559bc0678d73feae3ea84a"
   },
   "source": [
    "XGBoost is a gradient boosting algorithm <a href='#8'>[7]</a>.\n",
    "\n",
    "Let's prepare the model."
   ]
  },
  {
   "cell_type": "markdown",
   "metadata": {
    "_uuid": "d7f9cbb6193e637924d7205734c34bc11abfa033"
   },
   "source": [
    "### Prepare the model\n",
    "\n",
    "We initialize the DMatrix objects for training and validation, starting from the datasets. We also set some of the parameters used for the model tuning."
   ]
  },
  {
   "cell_type": "code",
   "execution_count": 56,
   "metadata": {
    "_uuid": "da380529fbef2b22345e763117fd0ed4bfa00801",
    "collapsed": true,
    "jupyter": {
     "outputs_hidden": true
    }
   },
   "outputs": [],
   "source": [
    "# Prepare the train and valid datasets\n",
    "dtrain = xgb.DMatrix(train_df[predictors], train_df[target].values)\n",
    "dvalid = xgb.DMatrix(val_df[predictors], val_df[target].values)\n",
    "\n",
    "#What to monitor (in this case, **train** and **valid**)\n",
    "watchlist = [(dtrain, 'train'), (dvalid, 'valid')]\n",
    "\n",
    "# Set xgboost parameters\n",
    "params = {}\n",
    "params['objective'] = 'binary:logistic'\n",
    "params['eta'] = 0.039\n",
    "params['silent'] = True\n",
    "params['max_depth'] = 2\n",
    "params['subsample'] = 0.8\n",
    "params['colsample_bytree'] = 0.9\n",
    "params['eval_metric'] = 'auc'\n",
    "params['random_state'] = RANDOM_STATE"
   ]
  },
  {
   "cell_type": "code",
   "execution_count": 101,
   "metadata": {},
   "outputs": [],
   "source": [
    "clf = xgb.XGBClassifier(learning_rate =0.1,\n",
    " n_estimators=500,\n",
    " max_depth=3,\n",
    " min_child_weight=1,\n",
    " gamma=0,\n",
    " subsample=0.8,\n",
    " colsample_bytree=0.9,\n",
    " objective= 'binary:logistic',\n",
    " nthread=4,\n",
    " scale_pos_weight=1,\n",
    " eta=0.039,\n",
    " seed=27)"
   ]
  },
  {
   "cell_type": "code",
   "execution_count": 102,
   "metadata": {},
   "outputs": [
    {
     "name": "stdout",
     "output_type": "stream",
     "text": [
      "Fold=0, roc_auc=0.6717071938057152\n",
      "Fold=1, roc_auc=0.6662555548872123\n",
      "Fold=2, roc_auc=0.6580823699648013\n",
      "Fold=3, roc_auc=0.6502301779805457\n",
      "Fold=4, roc_auc=0.6484310529790395\n",
      "CV model - roc_auc - mean=0.659 - std=(0.009)\n"
     ]
    }
   ],
   "source": [
    "clf_models = train_cv(clf, data_df[predictors + ['kfold',LABEL]], 'roc_auc')\n"
   ]
  },
  {
   "cell_type": "code",
   "execution_count": 103,
   "metadata": {},
   "outputs": [
    {
     "data": {
      "image/png": "[encoded data removed]",
      "text/plain": [
       "<Figure size 504x288 with 1 Axes>"
      ]
     },
     "metadata": {
      "needs_background": "light"
     },
     "output_type": "display_data"
    }
   ],
   "source": [
    "tmp = pd.DataFrame({'Feature': predictors, 'Feature importance': np.mean([clf.feature_importances_ for clf in clf_models], axis=0)})\n",
    "tmp = tmp.sort_values(by='Feature importance',ascending=False)\n",
    "plt.figure(figsize = (7,4))\n",
    "plt.title('Features importance',fontsize=14)\n",
    "s = sns.barplot(x='Feature',y='Feature importance',data=tmp)\n",
    "s.set_xticklabels(s.get_xticklabels(),rotation=90)\n",
    "plt.show()   \n"
   ]
  },
  {
   "cell_type": "code",
   "execution_count": 105,
   "metadata": {},
   "outputs": [
    {
     "data": {
      "image/png": "[encoded data removed]",
      "text/plain": [
       "<Figure size 432x288 with 1 Axes>"
      ]
     },
     "metadata": {
      "needs_background": "light"
     },
     "output_type": "display_data"
    }
   ],
   "source": [
    "FOLD = 0\n",
    "plot_lift(y_real=data_df[data_df.kfold==FOLD][LABEL],y_proba=clf_models[0].predict_proba(data_df[data_df.kfold==FOLD][predictors])[:,1])"
   ]
  },
  {
   "cell_type": "code",
   "execution_count": 106,
   "metadata": {},
   "outputs": [
    {
     "data": {
      "image/png": "[encoded data removed]",
      "text/plain": [
       "<Figure size 432x288 with 1 Axes>"
      ]
     },
     "metadata": {
      "needs_background": "light"
     },
     "output_type": "display_data"
    }
   ],
   "source": [
    "FOLD = 1\n",
    "plot_lift(y_real=data_df[data_df.kfold==FOLD][LABEL],y_proba=clf_models[0].predict_proba(data_df[data_df.kfold==FOLD][predictors])[:,1])"
   ]
  },
  {
   "cell_type": "code",
   "execution_count": 107,
   "metadata": {},
   "outputs": [
    {
     "data": {
      "image/png": "[encoded data removed]",
      "text/plain": [
       "<Figure size 432x288 with 1 Axes>"
      ]
     },
     "metadata": {
      "needs_background": "light"
     },
     "output_type": "display_data"
    }
   ],
   "source": [
    "FOLD = 4\n",
    "plot_lift(y_real=data_df[data_df.kfold==FOLD][LABEL],y_proba=clf_models[0].predict_proba(data_df[data_df.kfold==FOLD][predictors])[:,1])"
   ]
  },
  {
   "cell_type": "markdown",
   "metadata": {
    "_uuid": "dd80e9763ffd18ac4b6a5f02683ab6a509ec94e5"
   },
   "source": [
    "The best validation score (ROC-AUC) was **0.78**, for round **453**."
   ]
  },
  {
   "cell_type": "markdown",
   "metadata": {
    "_uuid": "1b3c42b246e51c906890276886621fffc6ac2cce"
   },
   "source": [
    "## <a id=\"65\">LightGBM</a>\n",
    "\n",
    "\n",
    "Let's continue with another gradient boosting algorithm, LightGBM <a href='#8'>[7]</a> <a href='#8'>[8]</a>.\n",
    "\n",
    "\n",
    "### Define model parameters\n",
    "\n",
    "Let's set the parameters for the model."
   ]
  },
  {
   "cell_type": "code",
   "execution_count": 168,
   "metadata": {},
   "outputs": [],
   "source": [
    "clf = lgb.LGBMClassifier(**params)"
   ]
  },
  {
   "cell_type": "code",
   "execution_count": 171,
   "metadata": {},
   "outputs": [],
   "source": [
    "clf = lgb.LGBMClassifier(n_estimators=500, max_depth=5,\n",
    "                          verbose=-1,\n",
    "                          learning_rate=0.03, reg_lambda=50,\n",
    "                          min_child_samples=2400,\n",
    "                          num_leaves=95,\n",
    "                          max_bins=511, random_state=47,  n_jobs=-1)"
   ]
  },
  {
   "cell_type": "code",
   "execution_count": 172,
   "metadata": {},
   "outputs": [
    {
     "name": "stdout",
     "output_type": "stream",
     "text": [
      "Fold=0, roc_auc=0.6683114900635713\n",
      "Fold=1, roc_auc=0.6683114900635713\n",
      "Fold=2, roc_auc=0.6558774282700521\n",
      "Fold=3, roc_auc=0.6469506638450035\n",
      "Fold=4, roc_auc=0.651867315151015\n",
      "CV model - roc_auc - mean=0.658 - std=(0.009)\n"
     ]
    }
   ],
   "source": [
    "clf_models = train_cv(clf, data_df[predictors + ['kfold',LABEL]], 'roc_auc')\n"
   ]
  },
  {
   "cell_type": "code",
   "execution_count": 173,
   "metadata": {},
   "outputs": [
    {
     "data": {
      "image/png": "[encoded data removed]",
      "text/plain": [
       "<Figure size 504x288 with 1 Axes>"
      ]
     },
     "metadata": {
      "needs_background": "light"
     },
     "output_type": "display_data"
    }
   ],
   "source": [
    "tmp = pd.DataFrame({'Feature': predictors, 'Feature importance': np.mean([clf.feature_importances_ for clf in clf_models], axis=0)})\n",
    "tmp = tmp.sort_values(by='Feature importance',ascending=False)\n",
    "plt.figure(figsize = (7,4))\n",
    "plt.title('Features importance',fontsize=14)\n",
    "s = sns.barplot(x='Feature',y='Feature importance',data=tmp)\n",
    "s.set_xticklabels(s.get_xticklabels(),rotation=90)\n",
    "plt.show()   \n"
   ]
  },
  {
   "cell_type": "markdown",
   "metadata": {},
   "source": [
    "#### Lift curve"
   ]
  },
  {
   "cell_type": "code",
   "execution_count": 111,
   "metadata": {},
   "outputs": [
    {
     "data": {
      "image/png": "[encoded data removed]",
      "text/plain": [
       "<Figure size 432x288 with 1 Axes>"
      ]
     },
     "metadata": {
      "needs_background": "light"
     },
     "output_type": "display_data"
    }
   ],
   "source": [
    "FOLD = 0\n",
    "plot_lift(y_real=data_df[data_df.kfold==FOLD][LABEL],y_proba=clf_models[0].predict_proba(data_df[data_df.kfold==FOLD][predictors])[:,1])"
   ]
  },
  {
   "cell_type": "code",
   "execution_count": 112,
   "metadata": {},
   "outputs": [
    {
     "data": {
      "image/png": "[encoded data removed]",
      "text/plain": [
       "<Figure size 432x288 with 1 Axes>"
      ]
     },
     "metadata": {
      "needs_background": "light"
     },
     "output_type": "display_data"
    }
   ],
   "source": [
    "FOLD = 1\n",
    "plot_lift(y_real=data_df[data_df.kfold==FOLD][LABEL],y_proba=clf_models[0].predict_proba(data_df[data_df.kfold==FOLD][predictors])[:,1])"
   ]
  },
  {
   "cell_type": "code",
   "execution_count": 113,
   "metadata": {},
   "outputs": [
    {
     "data": {
      "image/png": "[encoded data removed]",
      "text/plain": [
       "<Figure size 432x288 with 1 Axes>"
      ]
     },
     "metadata": {
      "needs_background": "light"
     },
     "output_type": "display_data"
    }
   ],
   "source": [
    "FOLD = 2\n",
    "plot_lift(y_real=data_df[data_df.kfold==FOLD][LABEL],y_proba=clf_models[0].predict_proba(data_df[data_df.kfold==FOLD][predictors])[:,1])"
   ]
  },
  {
   "cell_type": "code",
   "execution_count": 114,
   "metadata": {},
   "outputs": [
    {
     "data": {
      "image/png": "[encoded data removed]",
      "text/plain": [
       "<Figure size 432x288 with 1 Axes>"
      ]
     },
     "metadata": {
      "needs_background": "light"
     },
     "output_type": "display_data"
    }
   ],
   "source": [
    "FOLD = 3\n",
    "plot_lift(y_real=data_df[data_df.kfold==FOLD][LABEL],y_proba=clf_models[0].predict_proba(data_df[data_df.kfold==FOLD][predictors])[:,1])"
   ]
  },
  {
   "cell_type": "code",
   "execution_count": 115,
   "metadata": {},
   "outputs": [
    {
     "data": {
      "image/png": "[encoded data removed]",
      "text/plain": [
       "<Figure size 432x288 with 1 Axes>"
      ]
     },
     "metadata": {
      "needs_background": "light"
     },
     "output_type": "display_data"
    }
   ],
   "source": [
    "FOLD = 4\n",
    "plot_lift(y_real=data_df[data_df.kfold==FOLD][LABEL],y_proba=clf_models[0].predict_proba(data_df[data_df.kfold==FOLD][predictors])[:,1])"
   ]
  },
  {
   "cell_type": "code",
   "execution_count": null,
   "metadata": {},
   "outputs": [],
   "source": []
  },
  {
   "cell_type": "markdown",
   "metadata": {
    "_uuid": "af9fc8044eccaddbebb72a5438fc523d5d7fde38"
   },
   "source": [
    "### Feature Engineer\n",
    "\n",
    "From the importance variable analysis we can see that some variables are good to discriminate the target, such as bill_amount, pay_ant, and so on. Let's see if we can create some news features from those variables and retrain a new model using the best algorith we have tested. \n"
   ]
  },
  {
   "cell_type": "code",
   "execution_count": 177,
   "metadata": {},
   "outputs": [],
   "source": [
    "\n",
    "pastpayment_vars = ['pay_0', 'pay_2', \n",
    "                    'pay_3', 'pay_4', \n",
    "                    'pay_5', 'pay_6']\n",
    "data_df[\"pastpayment_acum\"] = data_df[pastpayment_vars].sum(axis=1)"
   ]
  },
  {
   "cell_type": "code",
   "execution_count": 189,
   "metadata": {},
   "outputs": [],
   "source": [
    "bill_amount_vars = ['bill_amt1', 'bill_amt2',\n",
    "    'bill_amt3', 'bill_amt4', \n",
    "    'bill_amt5', 'bill_amt6']\n",
    "\n",
    "data_df[\"bill_amount_acum\"] = data_df[bill_amount_vars].sum(axis=1)\n"
   ]
  },
  {
   "cell_type": "code",
   "execution_count": 190,
   "metadata": {},
   "outputs": [],
   "source": [
    "bill_amount_vars.reverse()\n",
    "bill_amount_tend_df = data_df[bill_amount_vars].pct_change(axis=\"columns\").replace(np.inf, 0).replace(np.nan, 0)\n",
    "\n",
    "bill_amount_tend_df.rename(columns={\"default payment next month\": \"target\"}, inplace=True)\n",
    "\n",
    "bill_amount_tend_df.columns = ['tend_bill_amt6', 'tend_bill_amt5', 'tend_bill_amt4', 'tend_bill_amt3', 'tend_bill_amt2',\n",
    "       'tend_bill_amt1']\n",
    "\n",
    "bill_amount_tend_df.drop(\"tend_bill_amt6\", axis=1, inplace=True)\n",
    "\n",
    "data_df = data_df.join(bill_amount_tend_df)\n"
   ]
  },
  {
   "cell_type": "code",
   "execution_count": 201,
   "metadata": {},
   "outputs": [
    {
     "data": {
      "text/html": [
       "<div>\n",
       "<style scoped>\n",
       "    .dataframe tbody tr th:only-of-type {\n",
       "        vertical-align: middle;\n",
       "    }\n",
       "\n",
       "    .dataframe tbody tr th {\n",
       "        vertical-align: top;\n",
       "    }\n",
       "\n",
       "    .dataframe thead th {\n",
       "        text-align: right;\n",
       "    }\n",
       "</style>\n",
       "<table border=\"1\" class=\"dataframe\">\n",
       "  <thead>\n",
       "    <tr style=\"text-align: right;\">\n",
       "      <th></th>\n",
       "      <th>id</th>\n",
       "      <th>limit_bal</th>\n",
       "      <th>sex</th>\n",
       "      <th>education</th>\n",
       "      <th>marriage</th>\n",
       "      <th>age</th>\n",
       "      <th>pay_0</th>\n",
       "      <th>pay_2</th>\n",
       "      <th>pay_3</th>\n",
       "      <th>pay_4</th>\n",
       "      <th>pay_5</th>\n",
       "      <th>pay_6</th>\n",
       "      <th>bill_amt1</th>\n",
       "      <th>bill_amt2</th>\n",
       "      <th>bill_amt3</th>\n",
       "      <th>bill_amt4</th>\n",
       "      <th>bill_amt5</th>\n",
       "      <th>bill_amt6</th>\n",
       "      <th>pay_amt1</th>\n",
       "      <th>pay_amt2</th>\n",
       "      <th>pay_amt3</th>\n",
       "      <th>pay_amt4</th>\n",
       "      <th>pay_amt5</th>\n",
       "      <th>pay_amt6</th>\n",
       "      <th>target</th>\n",
       "      <th>kfold</th>\n",
       "      <th>pastpayment_acum</th>\n",
       "      <th>bill_amount_acum</th>\n",
       "      <th>tend_bill_amt5</th>\n",
       "      <th>tend_bill_amt4</th>\n",
       "      <th>tend_bill_amt3</th>\n",
       "      <th>tend_bill_amt2</th>\n",
       "      <th>tend_bill_amt1</th>\n",
       "      <th>payment_amount_acum</th>\n",
       "    </tr>\n",
       "  </thead>\n",
       "  <tbody>\n",
       "    <tr>\n",
       "      <th>0</th>\n",
       "      <td>27063</td>\n",
       "      <td>290000</td>\n",
       "      <td>1</td>\n",
       "      <td>3</td>\n",
       "      <td>2</td>\n",
       "      <td>41</td>\n",
       "      <td>0</td>\n",
       "      <td>0</td>\n",
       "      <td>0</td>\n",
       "      <td>0</td>\n",
       "      <td>0</td>\n",
       "      <td>0</td>\n",
       "      <td>293281</td>\n",
       "      <td>268030</td>\n",
       "      <td>157691</td>\n",
       "      <td>158720</td>\n",
       "      <td>144085</td>\n",
       "      <td>143663</td>\n",
       "      <td>7948</td>\n",
       "      <td>22429</td>\n",
       "      <td>5530</td>\n",
       "      <td>4442</td>\n",
       "      <td>5887</td>\n",
       "      <td>5890</td>\n",
       "      <td>0</td>\n",
       "      <td>0</td>\n",
       "      <td>0</td>\n",
       "      <td>1165470</td>\n",
       "      <td>0.002937</td>\n",
       "      <td>0.101572</td>\n",
       "      <td>-0.006483</td>\n",
       "      <td>0.699717</td>\n",
       "      <td>0.094210</td>\n",
       "      <td>52126</td>\n",
       "    </tr>\n",
       "    <tr>\n",
       "      <th>1</th>\n",
       "      <td>6786</td>\n",
       "      <td>80000</td>\n",
       "      <td>2</td>\n",
       "      <td>3</td>\n",
       "      <td>1</td>\n",
       "      <td>42</td>\n",
       "      <td>-2</td>\n",
       "      <td>-2</td>\n",
       "      <td>-2</td>\n",
       "      <td>-2</td>\n",
       "      <td>-2</td>\n",
       "      <td>-2</td>\n",
       "      <td>0</td>\n",
       "      <td>0</td>\n",
       "      <td>0</td>\n",
       "      <td>0</td>\n",
       "      <td>0</td>\n",
       "      <td>0</td>\n",
       "      <td>0</td>\n",
       "      <td>0</td>\n",
       "      <td>0</td>\n",
       "      <td>0</td>\n",
       "      <td>0</td>\n",
       "      <td>0</td>\n",
       "      <td>0</td>\n",
       "      <td>0</td>\n",
       "      <td>-12</td>\n",
       "      <td>0</td>\n",
       "      <td>0.000000</td>\n",
       "      <td>0.000000</td>\n",
       "      <td>0.000000</td>\n",
       "      <td>0.000000</td>\n",
       "      <td>0.000000</td>\n",
       "      <td>0</td>\n",
       "    </tr>\n",
       "    <tr>\n",
       "      <th>2</th>\n",
       "      <td>12263</td>\n",
       "      <td>50000</td>\n",
       "      <td>2</td>\n",
       "      <td>2</td>\n",
       "      <td>1</td>\n",
       "      <td>25</td>\n",
       "      <td>1</td>\n",
       "      <td>2</td>\n",
       "      <td>0</td>\n",
       "      <td>0</td>\n",
       "      <td>0</td>\n",
       "      <td>0</td>\n",
       "      <td>19454</td>\n",
       "      <td>18856</td>\n",
       "      <td>19590</td>\n",
       "      <td>18861</td>\n",
       "      <td>4581</td>\n",
       "      <td>2158</td>\n",
       "      <td>0</td>\n",
       "      <td>1200</td>\n",
       "      <td>477</td>\n",
       "      <td>121</td>\n",
       "      <td>22</td>\n",
       "      <td>0</td>\n",
       "      <td>0</td>\n",
       "      <td>0</td>\n",
       "      <td>3</td>\n",
       "      <td>83500</td>\n",
       "      <td>1.122799</td>\n",
       "      <td>3.117223</td>\n",
       "      <td>0.038651</td>\n",
       "      <td>-0.037468</td>\n",
       "      <td>0.031714</td>\n",
       "      <td>1820</td>\n",
       "    </tr>\n",
       "    <tr>\n",
       "      <th>3</th>\n",
       "      <td>16349</td>\n",
       "      <td>500000</td>\n",
       "      <td>2</td>\n",
       "      <td>1</td>\n",
       "      <td>2</td>\n",
       "      <td>34</td>\n",
       "      <td>-2</td>\n",
       "      <td>-2</td>\n",
       "      <td>-2</td>\n",
       "      <td>-2</td>\n",
       "      <td>-2</td>\n",
       "      <td>-2</td>\n",
       "      <td>11765</td>\n",
       "      <td>6599</td>\n",
       "      <td>11421</td>\n",
       "      <td>-83</td>\n",
       "      <td>49699</td>\n",
       "      <td>3821</td>\n",
       "      <td>6648</td>\n",
       "      <td>11986</td>\n",
       "      <td>0</td>\n",
       "      <td>49947</td>\n",
       "      <td>3840</td>\n",
       "      <td>11939</td>\n",
       "      <td>0</td>\n",
       "      <td>0</td>\n",
       "      <td>-12</td>\n",
       "      <td>83222</td>\n",
       "      <td>12.006805</td>\n",
       "      <td>-1.001670</td>\n",
       "      <td>-138.602410</td>\n",
       "      <td>-0.422205</td>\n",
       "      <td>0.782846</td>\n",
       "      <td>84360</td>\n",
       "    </tr>\n",
       "    <tr>\n",
       "      <th>4</th>\n",
       "      <td>1500</td>\n",
       "      <td>20000</td>\n",
       "      <td>1</td>\n",
       "      <td>1</td>\n",
       "      <td>2</td>\n",
       "      <td>27</td>\n",
       "      <td>1</td>\n",
       "      <td>2</td>\n",
       "      <td>-1</td>\n",
       "      <td>-1</td>\n",
       "      <td>0</td>\n",
       "      <td>0</td>\n",
       "      <td>6274</td>\n",
       "      <td>5971</td>\n",
       "      <td>3980</td>\n",
       "      <td>9040</td>\n",
       "      <td>9040</td>\n",
       "      <td>0</td>\n",
       "      <td>0</td>\n",
       "      <td>4000</td>\n",
       "      <td>9040</td>\n",
       "      <td>0</td>\n",
       "      <td>0</td>\n",
       "      <td>17291</td>\n",
       "      <td>0</td>\n",
       "      <td>0</td>\n",
       "      <td>1</td>\n",
       "      <td>34305</td>\n",
       "      <td>0.000000</td>\n",
       "      <td>0.000000</td>\n",
       "      <td>-0.559735</td>\n",
       "      <td>0.500251</td>\n",
       "      <td>0.050745</td>\n",
       "      <td>30331</td>\n",
       "    </tr>\n",
       "    <tr>\n",
       "      <th>...</th>\n",
       "      <td>...</td>\n",
       "      <td>...</td>\n",
       "      <td>...</td>\n",
       "      <td>...</td>\n",
       "      <td>...</td>\n",
       "      <td>...</td>\n",
       "      <td>...</td>\n",
       "      <td>...</td>\n",
       "      <td>...</td>\n",
       "      <td>...</td>\n",
       "      <td>...</td>\n",
       "      <td>...</td>\n",
       "      <td>...</td>\n",
       "      <td>...</td>\n",
       "      <td>...</td>\n",
       "      <td>...</td>\n",
       "      <td>...</td>\n",
       "      <td>...</td>\n",
       "      <td>...</td>\n",
       "      <td>...</td>\n",
       "      <td>...</td>\n",
       "      <td>...</td>\n",
       "      <td>...</td>\n",
       "      <td>...</td>\n",
       "      <td>...</td>\n",
       "      <td>...</td>\n",
       "      <td>...</td>\n",
       "      <td>...</td>\n",
       "      <td>...</td>\n",
       "      <td>...</td>\n",
       "      <td>...</td>\n",
       "      <td>...</td>\n",
       "      <td>...</td>\n",
       "      <td>...</td>\n",
       "    </tr>\n",
       "    <tr>\n",
       "      <th>29995</th>\n",
       "      <td>23495</td>\n",
       "      <td>110000</td>\n",
       "      <td>2</td>\n",
       "      <td>1</td>\n",
       "      <td>2</td>\n",
       "      <td>32</td>\n",
       "      <td>0</td>\n",
       "      <td>0</td>\n",
       "      <td>0</td>\n",
       "      <td>-2</td>\n",
       "      <td>-2</td>\n",
       "      <td>-2</td>\n",
       "      <td>60558</td>\n",
       "      <td>30900</td>\n",
       "      <td>0</td>\n",
       "      <td>0</td>\n",
       "      <td>0</td>\n",
       "      <td>0</td>\n",
       "      <td>1900</td>\n",
       "      <td>0</td>\n",
       "      <td>0</td>\n",
       "      <td>0</td>\n",
       "      <td>0</td>\n",
       "      <td>0</td>\n",
       "      <td>0</td>\n",
       "      <td>4</td>\n",
       "      <td>-6</td>\n",
       "      <td>91458</td>\n",
       "      <td>0.000000</td>\n",
       "      <td>0.000000</td>\n",
       "      <td>0.000000</td>\n",
       "      <td>0.000000</td>\n",
       "      <td>0.959806</td>\n",
       "      <td>1900</td>\n",
       "    </tr>\n",
       "    <tr>\n",
       "      <th>29996</th>\n",
       "      <td>2302</td>\n",
       "      <td>230000</td>\n",
       "      <td>2</td>\n",
       "      <td>1</td>\n",
       "      <td>1</td>\n",
       "      <td>30</td>\n",
       "      <td>-1</td>\n",
       "      <td>-1</td>\n",
       "      <td>0</td>\n",
       "      <td>0</td>\n",
       "      <td>0</td>\n",
       "      <td>0</td>\n",
       "      <td>2212</td>\n",
       "      <td>17402</td>\n",
       "      <td>32450</td>\n",
       "      <td>17285</td>\n",
       "      <td>9766</td>\n",
       "      <td>9981</td>\n",
       "      <td>17402</td>\n",
       "      <td>20013</td>\n",
       "      <td>346</td>\n",
       "      <td>5000</td>\n",
       "      <td>8000</td>\n",
       "      <td>5000</td>\n",
       "      <td>1</td>\n",
       "      <td>4</td>\n",
       "      <td>-2</td>\n",
       "      <td>89096</td>\n",
       "      <td>-0.021541</td>\n",
       "      <td>0.769916</td>\n",
       "      <td>0.877350</td>\n",
       "      <td>-0.463729</td>\n",
       "      <td>-0.872888</td>\n",
       "      <td>55761</td>\n",
       "    </tr>\n",
       "    <tr>\n",
       "      <th>29997</th>\n",
       "      <td>12696</td>\n",
       "      <td>20000</td>\n",
       "      <td>2</td>\n",
       "      <td>3</td>\n",
       "      <td>2</td>\n",
       "      <td>38</td>\n",
       "      <td>-1</td>\n",
       "      <td>-1</td>\n",
       "      <td>2</td>\n",
       "      <td>0</td>\n",
       "      <td>-1</td>\n",
       "      <td>-1</td>\n",
       "      <td>12193</td>\n",
       "      <td>11242</td>\n",
       "      <td>8015</td>\n",
       "      <td>3668</td>\n",
       "      <td>3508</td>\n",
       "      <td>5278</td>\n",
       "      <td>5015</td>\n",
       "      <td>0</td>\n",
       "      <td>0</td>\n",
       "      <td>3508</td>\n",
       "      <td>5278</td>\n",
       "      <td>780</td>\n",
       "      <td>0</td>\n",
       "      <td>4</td>\n",
       "      <td>-2</td>\n",
       "      <td>43904</td>\n",
       "      <td>-0.335354</td>\n",
       "      <td>0.045610</td>\n",
       "      <td>1.185115</td>\n",
       "      <td>0.402620</td>\n",
       "      <td>0.084593</td>\n",
       "      <td>14581</td>\n",
       "    </tr>\n",
       "    <tr>\n",
       "      <th>29998</th>\n",
       "      <td>28101</td>\n",
       "      <td>210000</td>\n",
       "      <td>2</td>\n",
       "      <td>1</td>\n",
       "      <td>2</td>\n",
       "      <td>29</td>\n",
       "      <td>-1</td>\n",
       "      <td>-1</td>\n",
       "      <td>-1</td>\n",
       "      <td>-1</td>\n",
       "      <td>-1</td>\n",
       "      <td>-1</td>\n",
       "      <td>18662</td>\n",
       "      <td>6220</td>\n",
       "      <td>199</td>\n",
       "      <td>0</td>\n",
       "      <td>10024</td>\n",
       "      <td>-18</td>\n",
       "      <td>6224</td>\n",
       "      <td>199</td>\n",
       "      <td>200</td>\n",
       "      <td>10024</td>\n",
       "      <td>0</td>\n",
       "      <td>0</td>\n",
       "      <td>0</td>\n",
       "      <td>4</td>\n",
       "      <td>-6</td>\n",
       "      <td>35087</td>\n",
       "      <td>-557.888889</td>\n",
       "      <td>-1.000000</td>\n",
       "      <td>0.000000</td>\n",
       "      <td>30.256281</td>\n",
       "      <td>2.000322</td>\n",
       "      <td>16647</td>\n",
       "    </tr>\n",
       "    <tr>\n",
       "      <th>29999</th>\n",
       "      <td>22588</td>\n",
       "      <td>80000</td>\n",
       "      <td>2</td>\n",
       "      <td>3</td>\n",
       "      <td>3</td>\n",
       "      <td>48</td>\n",
       "      <td>0</td>\n",
       "      <td>0</td>\n",
       "      <td>0</td>\n",
       "      <td>0</td>\n",
       "      <td>0</td>\n",
       "      <td>0</td>\n",
       "      <td>36320</td>\n",
       "      <td>29106</td>\n",
       "      <td>15290</td>\n",
       "      <td>4456</td>\n",
       "      <td>33661</td>\n",
       "      <td>34275</td>\n",
       "      <td>2030</td>\n",
       "      <td>2000</td>\n",
       "      <td>2000</td>\n",
       "      <td>30000</td>\n",
       "      <td>12000</td>\n",
       "      <td>0</td>\n",
       "      <td>0</td>\n",
       "      <td>4</td>\n",
       "      <td>0</td>\n",
       "      <td>153108</td>\n",
       "      <td>-0.017914</td>\n",
       "      <td>-0.867621</td>\n",
       "      <td>2.431329</td>\n",
       "      <td>0.903597</td>\n",
       "      <td>0.247853</td>\n",
       "      <td>48030</td>\n",
       "    </tr>\n",
       "  </tbody>\n",
       "</table>\n",
       "<p>30000 rows × 34 columns</p>\n",
       "</div>"
      ],
      "text/plain": [
       "          id  limit_bal  sex  education  marriage  age  pay_0  pay_2  pay_3  \\\n",
       "0      27063     290000    1          3         2   41      0      0      0   \n",
       "1       6786      80000    2          3         1   42     -2     -2     -2   \n",
       "2      12263      50000    2          2         1   25      1      2      0   \n",
       "3      16349     500000    2          1         2   34     -2     -2     -2   \n",
       "4       1500      20000    1          1         2   27      1      2     -1   \n",
       "...      ...        ...  ...        ...       ...  ...    ...    ...    ...   \n",
       "29995  23495     110000    2          1         2   32      0      0      0   \n",
       "29996   2302     230000    2          1         1   30     -1     -1      0   \n",
       "29997  12696      20000    2          3         2   38     -1     -1      2   \n",
       "29998  28101     210000    2          1         2   29     -1     -1     -1   \n",
       "29999  22588      80000    2          3         3   48      0      0      0   \n",
       "\n",
       "       pay_4  pay_5  pay_6  bill_amt1  bill_amt2  bill_amt3  bill_amt4  \\\n",
       "0          0      0      0     293281     268030     157691     158720   \n",
       "1         -2     -2     -2          0          0          0          0   \n",
       "2          0      0      0      19454      18856      19590      18861   \n",
       "3         -2     -2     -2      11765       6599      11421        -83   \n",
       "4         -1      0      0       6274       5971       3980       9040   \n",
       "...      ...    ...    ...        ...        ...        ...        ...   \n",
       "29995     -2     -2     -2      60558      30900          0          0   \n",
       "29996      0      0      0       2212      17402      32450      17285   \n",
       "29997      0     -1     -1      12193      11242       8015       3668   \n",
       "29998     -1     -1     -1      18662       6220        199          0   \n",
       "29999      0      0      0      36320      29106      15290       4456   \n",
       "\n",
       "       bill_amt5  bill_amt6  pay_amt1  pay_amt2  pay_amt3  pay_amt4  pay_amt5  \\\n",
       "0         144085     143663      7948     22429      5530      4442      5887   \n",
       "1              0          0         0         0         0         0         0   \n",
       "2           4581       2158         0      1200       477       121        22   \n",
       "3          49699       3821      6648     11986         0     49947      3840   \n",
       "4           9040          0         0      4000      9040         0         0   \n",
       "...          ...        ...       ...       ...       ...       ...       ...   \n",
       "29995          0          0      1900         0         0         0         0   \n",
       "29996       9766       9981     17402     20013       346      5000      8000   \n",
       "29997       3508       5278      5015         0         0      3508      5278   \n",
       "29998      10024        -18      6224       199       200     10024         0   \n",
       "29999      33661      34275      2030      2000      2000     30000     12000   \n",
       "\n",
       "       pay_amt6  target  kfold  pastpayment_acum  bill_amount_acum  \\\n",
       "0          5890       0      0                 0           1165470   \n",
       "1             0       0      0               -12                 0   \n",
       "2             0       0      0                 3             83500   \n",
       "3         11939       0      0               -12             83222   \n",
       "4         17291       0      0                 1             34305   \n",
       "...         ...     ...    ...               ...               ...   \n",
       "29995         0       0      4                -6             91458   \n",
       "29996      5000       1      4                -2             89096   \n",
       "29997       780       0      4                -2             43904   \n",
       "29998         0       0      4                -6             35087   \n",
       "29999         0       0      4                 0            153108   \n",
       "\n",
       "       tend_bill_amt5  tend_bill_amt4  tend_bill_amt3  tend_bill_amt2  \\\n",
       "0            0.002937        0.101572       -0.006483        0.699717   \n",
       "1            0.000000        0.000000        0.000000        0.000000   \n",
       "2            1.122799        3.117223        0.038651       -0.037468   \n",
       "3           12.006805       -1.001670     -138.602410       -0.422205   \n",
       "4            0.000000        0.000000       -0.559735        0.500251   \n",
       "...               ...             ...             ...             ...   \n",
       "29995        0.000000        0.000000        0.000000        0.000000   \n",
       "29996       -0.021541        0.769916        0.877350       -0.463729   \n",
       "29997       -0.335354        0.045610        1.185115        0.402620   \n",
       "29998     -557.888889       -1.000000        0.000000       30.256281   \n",
       "29999       -0.017914       -0.867621        2.431329        0.903597   \n",
       "\n",
       "       tend_bill_amt1  payment_amount_acum  \n",
       "0            0.094210                52126  \n",
       "1            0.000000                    0  \n",
       "2            0.031714                 1820  \n",
       "3            0.782846                84360  \n",
       "4            0.050745                30331  \n",
       "...               ...                  ...  \n",
       "29995        0.959806                 1900  \n",
       "29996       -0.872888                55761  \n",
       "29997        0.084593                14581  \n",
       "29998        2.000322                16647  \n",
       "29999        0.247853                48030  \n",
       "\n",
       "[30000 rows x 34 columns]"
      ]
     },
     "execution_count": 201,
     "metadata": {},
     "output_type": "execute_result"
    }
   ],
   "source": [
    "data_df"
   ]
  },
  {
   "cell_type": "code",
   "execution_count": 202,
   "metadata": {},
   "outputs": [],
   "source": [
    "pay_amount_vars = ['pay_amt1', 'pay_amt2', \n",
    "'pay_amt3', 'pay_amt4', \n",
    "'pay_amt5', 'pay_amt6']\n",
    "\n",
    "data_df[pay_amount_vars]\n",
    "\n",
    "data_df[\"payment_amount_acum\"] = data_df[pay_amount_vars].sum(axis=1)"
   ]
  },
  {
   "cell_type": "code",
   "execution_count": 203,
   "metadata": {},
   "outputs": [],
   "source": [
    "pay_amount_vars.reverse()\n",
    "pay_amount_tend_df = data_df[pay_amount_vars].pct_change(axis=\"columns\").replace(np.inf, 0).replace(np.nan, 0)\n",
    "\n",
    "pay_amount_tend_df.rename(columns={\"default payment next month\": \"target\"}, inplace=True)\n",
    "\n",
    "pay_amount_tend_df.columns = ['tend_pay_amt6', 'tend_pay_amt5', 'tend_pay_amt4', 'tend_pay_amt3', 'tend_pay_amt2',\n",
    "       'tend_pay_amt1']\n",
    "\n",
    "pay_amount_tend_df.drop(\"tend_pay_amt6\", axis=1, inplace=True)\n",
    "\n",
    "#data_df = data_df.join(pay_amount_tend_df)"
   ]
  },
  {
   "cell_type": "code",
   "execution_count": 204,
   "metadata": {},
   "outputs": [
    {
     "data": {
      "text/html": [
       "<div>\n",
       "<style scoped>\n",
       "    .dataframe tbody tr th:only-of-type {\n",
       "        vertical-align: middle;\n",
       "    }\n",
       "\n",
       "    .dataframe tbody tr th {\n",
       "        vertical-align: top;\n",
       "    }\n",
       "\n",
       "    .dataframe thead th {\n",
       "        text-align: right;\n",
       "    }\n",
       "</style>\n",
       "<table border=\"1\" class=\"dataframe\">\n",
       "  <thead>\n",
       "    <tr style=\"text-align: right;\">\n",
       "      <th></th>\n",
       "      <th>tend_pay_amt5</th>\n",
       "      <th>tend_pay_amt4</th>\n",
       "      <th>tend_pay_amt3</th>\n",
       "      <th>tend_pay_amt2</th>\n",
       "      <th>tend_pay_amt1</th>\n",
       "    </tr>\n",
       "  </thead>\n",
       "  <tbody>\n",
       "    <tr>\n",
       "      <th>0</th>\n",
       "      <td>-0.000509</td>\n",
       "      <td>-0.245456</td>\n",
       "      <td>0.244935</td>\n",
       "      <td>3.055877</td>\n",
       "      <td>-0.645637</td>\n",
       "    </tr>\n",
       "    <tr>\n",
       "      <th>1</th>\n",
       "      <td>0.000000</td>\n",
       "      <td>0.000000</td>\n",
       "      <td>0.000000</td>\n",
       "      <td>0.000000</td>\n",
       "      <td>0.000000</td>\n",
       "    </tr>\n",
       "    <tr>\n",
       "      <th>2</th>\n",
       "      <td>0.000000</td>\n",
       "      <td>4.500000</td>\n",
       "      <td>2.942149</td>\n",
       "      <td>1.515723</td>\n",
       "      <td>-1.000000</td>\n",
       "    </tr>\n",
       "    <tr>\n",
       "      <th>3</th>\n",
       "      <td>-0.678365</td>\n",
       "      <td>12.007031</td>\n",
       "      <td>-1.000000</td>\n",
       "      <td>0.000000</td>\n",
       "      <td>-0.445353</td>\n",
       "    </tr>\n",
       "    <tr>\n",
       "      <th>4</th>\n",
       "      <td>-1.000000</td>\n",
       "      <td>0.000000</td>\n",
       "      <td>0.000000</td>\n",
       "      <td>-0.557522</td>\n",
       "      <td>-1.000000</td>\n",
       "    </tr>\n",
       "    <tr>\n",
       "      <th>...</th>\n",
       "      <td>...</td>\n",
       "      <td>...</td>\n",
       "      <td>...</td>\n",
       "      <td>...</td>\n",
       "      <td>...</td>\n",
       "    </tr>\n",
       "    <tr>\n",
       "      <th>29995</th>\n",
       "      <td>0.000000</td>\n",
       "      <td>0.000000</td>\n",
       "      <td>0.000000</td>\n",
       "      <td>0.000000</td>\n",
       "      <td>0.000000</td>\n",
       "    </tr>\n",
       "    <tr>\n",
       "      <th>29996</th>\n",
       "      <td>0.600000</td>\n",
       "      <td>-0.375000</td>\n",
       "      <td>-0.930800</td>\n",
       "      <td>56.841040</td>\n",
       "      <td>-0.130465</td>\n",
       "    </tr>\n",
       "    <tr>\n",
       "      <th>29997</th>\n",
       "      <td>5.766667</td>\n",
       "      <td>-0.335354</td>\n",
       "      <td>-1.000000</td>\n",
       "      <td>0.000000</td>\n",
       "      <td>0.000000</td>\n",
       "    </tr>\n",
       "    <tr>\n",
       "      <th>29998</th>\n",
       "      <td>0.000000</td>\n",
       "      <td>0.000000</td>\n",
       "      <td>-0.980048</td>\n",
       "      <td>-0.005000</td>\n",
       "      <td>30.276382</td>\n",
       "    </tr>\n",
       "    <tr>\n",
       "      <th>29999</th>\n",
       "      <td>0.000000</td>\n",
       "      <td>1.500000</td>\n",
       "      <td>-0.933333</td>\n",
       "      <td>0.000000</td>\n",
       "      <td>0.015000</td>\n",
       "    </tr>\n",
       "  </tbody>\n",
       "</table>\n",
       "<p>30000 rows × 5 columns</p>\n",
       "</div>"
      ],
      "text/plain": [
       "       tend_pay_amt5  tend_pay_amt4  tend_pay_amt3  tend_pay_amt2  \\\n",
       "0          -0.000509      -0.245456       0.244935       3.055877   \n",
       "1           0.000000       0.000000       0.000000       0.000000   \n",
       "2           0.000000       4.500000       2.942149       1.515723   \n",
       "3          -0.678365      12.007031      -1.000000       0.000000   \n",
       "4          -1.000000       0.000000       0.000000      -0.557522   \n",
       "...              ...            ...            ...            ...   \n",
       "29995       0.000000       0.000000       0.000000       0.000000   \n",
       "29996       0.600000      -0.375000      -0.930800      56.841040   \n",
       "29997       5.766667      -0.335354      -1.000000       0.000000   \n",
       "29998       0.000000       0.000000      -0.980048      -0.005000   \n",
       "29999       0.000000       1.500000      -0.933333       0.000000   \n",
       "\n",
       "       tend_pay_amt1  \n",
       "0          -0.645637  \n",
       "1           0.000000  \n",
       "2          -1.000000  \n",
       "3          -0.445353  \n",
       "4          -1.000000  \n",
       "...              ...  \n",
       "29995       0.000000  \n",
       "29996      -0.130465  \n",
       "29997       0.000000  \n",
       "29998      30.276382  \n",
       "29999       0.015000  \n",
       "\n",
       "[30000 rows x 5 columns]"
      ]
     },
     "execution_count": 204,
     "metadata": {},
     "output_type": "execute_result"
    }
   ],
   "source": [
    "pay_amount_tend_df"
   ]
  },
  {
   "cell_type": "markdown",
   "metadata": {
    "_uuid": "e6c5b0ffbfebfa5df49d11e7219c4d75956ca7a2"
   },
   "source": [
    "The average validation **AUC** for the 5 folds obtained was **0.78**, with values between **0.778** and **0.79**."
   ]
  },
  {
   "cell_type": "markdown",
   "metadata": {
    "_uuid": "916f113e9975149edcf218d5037ff0a6f9faae4a"
   },
   "source": [
    "# <a id=\"7\">Conclusions</a>"
   ]
  },
  {
   "cell_type": "markdown",
   "metadata": {
    "_uuid": "0dc04fd9116d35e7ac6720aafd88adb6b1a3bdaa"
   },
   "source": [
    "We investigated the data, checking for data unbalancing, visualizing the features and understanding the relationship between different features.   \n",
    "\n",
    "We then investigated five predictive models:  \n",
    "* We started with **RandomForrestClassifier**, for which we obtained an AUC scode of **0.66**. \n",
    "   For the **RandomForrestClassifier** we also experimented with **OneHotEncoder**, replacing the categorical features with dummified values (introducing one dummy variable for each category). The AUC score did not improved significantly in this case.\n",
    "* Next we used  an **AdaBoostClassifier** model, with lower AUC score (**0.65**).   \n",
    "* We followed with an **CatBoostClassifier** model, with lower AUC score (**0.66**).   \n",
    "* Then we experimented with a **XGBoost** model, for which the AUC score obtained was **0.77**.   \n",
    "* We then presented the data to a **LightGBM** model. We used both train-validation split and cross-validation to evaluate the model effectiveness to predict the target value, i.e. detecting if a credit card client  will default next month. With both methods for LightGBM the obtained values of AUC for the validation set were around **0.78**."
   ]
  },
  {
   "cell_type": "markdown",
   "metadata": {
    "_uuid": "a28c2d7eccc79387f530538073ea5dab330d899e"
   },
   "source": [
    "# <a id=\"8\">References</a>\n",
    "\n",
    "[1] Default Credit Card Clients Dataset,  https://www.kaggle.com/uciml/default-of-credit-card-clients-dataset/  \n",
    "[2] Principal Component Analysis, Wikipedia Page, https://en.wikipedia.org/wiki/Principal_component_analysis  \n",
    "[3] RandomForrestClassifier, http://scikit-learn.org/stable/modules/generated/sklearn.ensemble.RandomForestClassifier.html  \n",
    "[4] ROC-AUC characteristic, https://en.wikipedia.org/wiki/Receiver_operating_characteristic#Area_under_the_curve   \n",
    "[5] AdaBoostClassifier, http://scikit-learn.org/stable/modules/generated/sklearn.ensemble.AdaBoostClassifier.html   \n",
    "[6] CatBoostClassifier, https://tech.yandex.com/catboost/doc/dg/concepts/python-reference_catboostclassifier-docpage/  \n",
    "[7] XGBoost Python API Reference, http://xgboost.readthedocs.io/en/latest/python/python_api.html  \n",
    "[8] LightGBM Python implementation, https://github.com/Microsoft/LightGBM/tree/master/python-package  \n",
    "[9] LightGBM algorithm, https://www.microsoft.com/en-us/research/wp-content/uploads/2017/11/lightgbm.pdf   \n",
    "\n"
   ]
  }
 ],
 "metadata": {
  "kernelspec": {
   "display_name": "Python 3.7.12 ('ml')",
   "language": "python",
   "name": "python3"
  },
  "language_info": {
   "codemirror_mode": {
    "name": "ipython",
    "version": 3
   },
   "file_extension": ".py",
   "mimetype": "text/x-python",
   "name": "python",
   "nbconvert_exporter": "python",
   "pygments_lexer": "ipython3",
   "version": "3.7.12"
  },
  "vscode": {
   "interpreter": {
    "hash": "228c5df8737005a5fd50c4cbed5d3a5fcfbd21d4f2b73c8782227592ff997353"
   }
  }
 },
 "nbformat": 4,
 "nbformat_minor": 4
}
